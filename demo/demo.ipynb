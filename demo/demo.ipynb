{
 "cells": [
  {
   "cell_type": "raw",
   "metadata": {},
   "source": [
    "# Metadata for pretty-jupyter HTML rendering\n",
    "# pip install pretty-jupyter\n",
    "# jupyter nbconvert --to html --template pj demo.ipynb\n",
    "\n",
    "title: \"Predicting building age with EUBUCCO footprints\"\n",
    "output:\n",
    "    general:\n",
    "        input: true\n",
    "    html:\n",
    "        toc: true\n",
    "        code_folding: show\n",
    "        theme: paper # https://pretty-jupyter.readthedocs.io/en/latest/styling_settings.html#themes"
   ]
  },
  {
   "attachments": {},
   "cell_type": "markdown",
   "metadata": {},
   "source": [
    "Complete notebook available at: https://github.com/ai4up/ufo-prediction/blob/main/demo/demo.ipynb"
   ]
  },
  {
   "attachments": {},
   "cell_type": "markdown",
   "metadata": {},
   "source": [
    "## Motivation\n",
    "\n",
    "Building attributes such as building height, type, and construction year are not available for all buildings in EUBUCCO. However, for many prospective use cases of the dataset, such as energy modeling, the building attributes are of high importance. This notebook shows how the available building footprints can be used to estimate missing building attributes with supervised machine learning."
   ]
  },
  {
   "cell_type": "code",
   "execution_count": 4,
   "metadata": {},
   "outputs": [
    {
     "name": "stdout",
     "output_type": "stream",
     "text": [
      "Collecting haversine==2.5.1\n",
      "  Using cached haversine-2.5.1-py2.py3-none-any.whl (6.1 kB)\n",
      "Installing collected packages: haversine\n",
      "Successfully installed haversine-2.5.1\n"
     ]
    }
   ],
   "source": [
    "# -.-|m { input: false }\n",
    "\n",
    "!pip install -r ../requirements.txt\n"
   ]
  },
  {
   "cell_type": "code",
   "execution_count": 4,
   "metadata": {},
   "outputs": [
    {
     "name": "stdout",
     "output_type": "stream",
     "text": [
      "c:\\Users\\utente\\ufo-prediction\\demo\\..\\src\n"
     ]
    },
    {
     "name": "stderr",
     "output_type": "stream",
     "text": [
      "c:\\Users\\utente\\anaconda3\\Lib\\site-packages\\xgboost\\compat.py:36: FutureWarning: pandas.Int64Index is deprecated and will be removed from pandas in a future version. Use pandas.Index with the appropriate dtype instead.\n",
      "  from pandas import MultiIndex, Int64Index\n"
     ]
    }
   ],
   "source": [
    "# -.-|m { input: false }\n",
    "\n",
    "# standard libs\n",
    "import os\n",
    "import sys\n",
    "import logging\n",
    "import copy\n",
    "\n",
    "# project lib\n",
    "PROJECT_SRC_PATH = os.path.join(os.path.abspath(''), '..', 'src')\n",
    "print(PROJECT_SRC_PATH)\n",
    "sys.path.append(PROJECT_SRC_PATH)\n",
    "PROJECT_EXPERIMENT_PATH = \"C:\\\\Users\\\\utente\\\\ufo-prediction\\\\bin\"\n",
    "sys.path.append(PROJECT_EXPERIMENT_PATH)\n",
    "\n",
    "import experiments\n",
    "\n",
    "import visualizations\n",
    "from prediction_age import AgePredictor, AgeClassifier, AgePredictorComparison, HeightPredictor\n",
    "import preprocessing as pp\n",
    "\n",
    "# external libs\n",
    "import numpy as np\n",
    "import pandas as pd\n",
    "import geopandas as gpd\n",
    "from xgboost import XGBRegressor, XGBClassifier\n",
    "\n",
    "import dataset\n",
    "from sklearn import metrics\n",
    "\n",
    "\n",
    "\n",
    "logging.basicConfig(format='%(asctime)s | %(levelname)s : %(message)s', level=logging.INFO)"
   ]
  },
  {
   "cell_type": "markdown",
   "metadata": {},
   "source": [
    "## Data"
   ]
  },
  {
   "cell_type": "markdown",
   "metadata": {},
   "source": [
    "Demo sample of ~20k buildings for Spain, ~50k for France, and 170k for the Netherlands. All 117 urban form features, lat lon, as well as some auxiliary attributes like city name, neighborhood, building type, etc. are included.\n",
    "\n",
    "The demo samples are stored using Git Large File Storage (LFS). To download them explicitly use:"
   ]
  },
  {
   "cell_type": "code",
   "execution_count": 23,
   "metadata": {},
   "outputs": [],
   "source": [
    "!git lfs pull"
   ]
  },
  {
   "cell_type": "code",
   "execution_count": 5,
   "metadata": {},
   "outputs": [
    {
     "name": "stderr",
     "output_type": "stream",
     "text": [
      "The frame.append method is deprecated and will be removed from pandas in a future version. Use pandas.concat instead.\n",
      "The frame.append method is deprecated and will be removed from pandas in a future version. Use pandas.concat instead.\n"
     ]
    },
    {
     "name": "stdout",
     "output_type": "stream",
     "text": [
      "21935\n",
      "49266\n",
      "176319\n",
      "247520\n"
     ]
    }
   ],
   "source": [
    "\n",
    "import os\n",
    "\n",
    "\n",
    "DATA_DIR = '.'\n",
    "\n",
    "path_data_ESP = os.path.join(DATA_DIR, 'df-ESP-exp.pkl')\n",
    "path_data_FRA = os.path.join(DATA_DIR, 'df-FRA-exp.pkl')\n",
    "path_data_NLD = os.path.join(DATA_DIR, 'df-NLD-exp.pkl')\n",
    "\n",
    "df = pd.read_pickle(path_data_ESP)\n",
    "df2 = pd.read_pickle(path_data_FRA)\n",
    "df3 = pd.read_pickle(path_data_NLD)\n",
    "\n",
    "\n"
   ]
  },
  {
   "cell_type": "code",
   "execution_count": 6,
   "metadata": {},
   "outputs": [
    {
     "name": "stderr",
     "output_type": "stream",
     "text": [
      "\n",
      "A value is trying to be set on a copy of a slice from a DataFrame\n",
      "\n",
      "See the caveats in the documentation: https://pandas.pydata.org/pandas-docs/stable/user_guide/indexing.html#returning-a-view-versus-a-copy\n"
     ]
    }
   ],
   "source": [
    "# Create test and train-validation sets, in all the different combinations needed for both XGBoost and TF-Transformer eperiments\n",
    "\n",
    "aux_set = df.sample(n=4000, random_state=2)\n",
    "type_tl_ESPset = df.drop(aux_set.index)\n",
    "height_test_ESPset = aux_set.iloc[:600, :]\n",
    "#height_local_train_ESPset = aux_set.iloc[600:, :]\n",
    "\n",
    "\n",
    "type_tl_ESPset = type_tl_ESPset.dropna(subset=[\"type\"])\n",
    "height_test_ESPset = height_test_ESPset.dropna(subset=[\"height\"])\n",
    "\n",
    "i=0\n",
    "height_local_train_ESPset = aux_set.iloc[600+660*i:600+660*(i+1), :]\n",
    "height_foreign_train_NLDset = df3.sample(n=20000, random_state=2)\n",
    "df_train = pd.concat([height_local_train_ESPset, height_foreign_train_NLDset])\n",
    "df_train = df_train.dropna(subset=[\"height\"])\n",
    "\n",
    "aux_set1 = copy.deepcopy(df_train)\n",
    "aux_set2 = copy.deepcopy(height_test_ESPset)\n",
    "\n",
    "height_foreign_train_NLDset = pd.concat([aux_set1, aux_set2])\n",
    "\n",
    "\n",
    "# exportdf3 = copy.deepcopy(df3_ufo)\n",
    "\n",
    "features_to_drop2 = [ 'type', 'geometry', 'source_file', 'Unnamed: 0.1', 'floors', 'TouchesIndexes', 'block', 'neighborhood', 'sbb', 'city']\n",
    "height_test_ESPset.drop(features_to_drop2, axis=1, inplace=True)\n",
    "# height_foreign_train_NLDset.drop(features_to_drop2, axis=1, inplace=True)\n",
    "height_local_train_ESPset.drop(features_to_drop2, axis=1, inplace=True)\n",
    "\n",
    "\n",
    "\n",
    "type_tl_target = type_tl_ESPset['type']\n",
    "type_tl_target = pd.DataFrame([1 if obj == \"residential\" else 0 for obj in type_tl_target])\n",
    "\n",
    "#height_tl_target = height_tl_ESPset['height']\n",
    "height_foreign_train_NLDset_target = height_foreign_train_NLDset['height']\n",
    "\n",
    "\n",
    "features_to_drop = ['type', 'type_source','height','age', 'type', 'geometry','source_file', 'Unnamed: 0.1', 'id_source', 'id', 'floors', 'TouchesIndexes', 'id_misaligned', 'block', 'country', 'neighborhood', 'sbb', 'city']\n",
    "\n",
    "#height_tl_ESPset.drop(features_to_drop, axis=1, inplace=True)\n",
    "type_tl_ESPset.drop(features_to_drop, axis=1, inplace=True)\n",
    "height_foreign_train_NLDset.drop(features_to_drop, axis=1, inplace=True)\n",
    "\n",
    "# height_tl_ESPset.to_csv('C:\\\\Users\\\\utente\\\\tabular-transfer-learning\\\\data\\\\eubuccoESP_downstream\\\\N.csv', index = False)\n",
    "type_tl_ESPset.to_csv('C:\\\\Users\\\\utente\\\\tabular-transfer-learning\\\\data\\\\eubuccoESP_upstream\\\\N.csv', index = False)\n",
    "height_foreign_train_NLDset.to_csv(\"c:\\\\Users\\\\utente\\\\tabular-transfer-learning\\\\data\\\\eubuccoNLD_direct\\\\N.csv\", index = False)\n",
    "# height_tl_target.to_csv('C:\\\\Users\\\\utente\\\\tabular-transfer-learning\\\\data\\\\eubuccoESP_downstream\\\\y.csv', index = False)\n",
    "type_tl_target.to_csv('C:\\\\Users\\\\utente\\\\tabular-transfer-learning\\\\data\\\\eubuccoESP_upstream\\\\y.csv', index = False)\n",
    "height_foreign_train_NLDset_target.to_csv(\"c:\\\\Users\\\\utente\\\\tabular-transfer-learning\\\\data\\\\eubuccoNLD_direct\\\\y.csv\", index = False)\n",
    "\n",
    "# height_tl_ESPset = pd.read_csv('C:\\\\Users\\\\utente\\\\tabular-transfer-learning\\\\data\\\\eubuccoESP_downstream\\\\N.csv')\n",
    "type_tl_ESPset = pd.read_csv('C:\\\\Users\\\\utente\\\\tabular-transfer-learning\\\\data\\\\eubuccoESP_upstream\\\\N.csv')\n",
    "height_foreign_train_NLDset = pd.read_csv('C:\\\\Users\\\\utente\\\\tabular-transfer-learning\\\\data\\\\eubuccoNLD_direct\\\\N.csv')\n",
    "# height_tl_target = pd.read_csv('C:\\\\Users\\\\utente\\\\tabular-transfer-learning\\\\data\\\\eubuccoESP_downstream\\\\y.csv')\n",
    "type_tl_target = pd.read_csv('C:\\\\Users\\\\utente\\\\tabular-transfer-learning\\\\data\\\\eubuccoESP_upstream\\\\y.csv')\n",
    "height_foreign_train_NLDset_target = pd.read_csv(\"c:\\\\Users\\\\utente\\\\tabular-transfer-learning\\\\data\\\\eubuccoNLD_direct\\\\y.csv\")\n",
    "\n",
    "# height_tl_ESPset.to_csv('C:\\\\Users\\\\utente\\\\tabular-transfer-learning\\\\data\\\\eubuccoESP_downstream\\\\N.csv', index = False)\n",
    "type_tl_ESPset.to_csv('C:\\\\Users\\\\utente\\\\tabular-transfer-learning\\\\data\\\\eubuccoESP_upstream\\\\N.csv', index = False)\n",
    "height_foreign_train_NLDset.to_csv(\"c:\\\\Users\\\\utente\\\\tabular-transfer-learning\\\\data\\\\eubuccoNLD_direct\\\\N.csv\", index = False)\n",
    "# height_tl_target.to_csv('C:\\\\Users\\\\utente\\\\tabular-transfer-learning\\\\data\\\\eubuccoESP_downstream\\\\y.csv', index = False)\n",
    "type_tl_target.to_csv('C:\\\\Users\\\\utente\\\\tabular-transfer-learning\\\\data\\\\eubuccoESP_upstream\\\\y.csv', index = False)\n",
    "height_foreign_train_NLDset_target.to_csv(\"c:\\\\Users\\\\utente\\\\tabular-transfer-learning\\\\data\\\\eubuccoNLD_direct\\\\y.csv\", index = False)\n",
    "\n"
   ]
  },
  {
   "attachments": {},
   "cell_type": "markdown",
   "metadata": {},
   "source": [
    "## Prediction"
   ]
  },
  {
   "cell_type": "code",
   "execution_count": 2,
   "metadata": {},
   "outputs": [],
   "source": [
    "xgb_model_params = {'tree_method': 'hist'}\n",
    "xgb_hyperparams = {\n",
    "    'max_depth': 10,\n",
    "    'learning_rate': 0.1,\n",
    "    'n_estimators': 250,\n",
    "    'colsample_bytree': 0.9,\n",
    "    'colsample_bylevel': 0.5,\n",
    "    'subsample': 1.0,\n",
    "}\n",
    "\n",
    "reg_params = {\n",
    "    'max_depth': [10],\n",
    "    'learning_rate': [0.1],\n",
    "    'n_estimators': [350, 400, 450]\n",
    "}"
   ]
  },
  {
   "cell_type": "code",
   "execution_count": 89,
   "metadata": {},
   "outputs": [
    {
     "name": "stderr",
     "output_type": "stream",
     "text": [
      "2024-02-21 10:42:50,407 | INFO : Dataset length: 20000\n",
      "2024-02-21 10:42:50,433 | INFO : Dataset allocated memory: 19 MB\n",
      "2024-02-21 10:42:50,441 | INFO : No abort signal received. Continuing... To abort please create C:\\Users\\utente\\ufo-prediction\\metadata\\local-ca1b3f6e.abort.\n",
      "2024-02-21 10:42:50,444 | INFO : Dataset standard deviation: 2.51624475867245\n",
      "2024-02-21 10:42:50,449 | INFO : Dataset mean age: 5.505932833505\n",
      "2024-02-21 10:42:50,451 | INFO : Training dataset length: 20000\n",
      "2024-02-21 10:42:50,453 | INFO : Test dataset length: 0\n",
      "2024-02-21 10:42:50,663 | INFO : Test dataset standard deviation after preprocessing: nan\n",
      "2024-02-21 10:42:50,667 | INFO : Test dataset mean age after preprocessing: nan\n",
      "2024-02-21 10:42:50,669 | INFO : Training dataset length after preprocessing: 19786\n",
      "2024-02-21 10:42:50,672 | INFO : Test dataset length after preprocessing: 0\n",
      "The total space of parameters 3 is smaller than n_iter=20. Running 3 iterations. For exhaustive searches, use GridSearchCV.\n",
      "pandas.Int64Index is deprecated and will be removed from pandas in a future version. Use pandas.Index with the appropriate dtype instead.\n"
     ]
    },
    {
     "name": "stdout",
     "output_type": "stream",
     "text": [
      "Fitting 5 folds for each of 3 candidates, totalling 15 fits\n"
     ]
    },
    {
     "name": "stderr",
     "output_type": "stream",
     "text": [
      "pandas.Int64Index is deprecated and will be removed from pandas in a future version. Use pandas.Index with the appropriate dtype instead.\n",
      "pandas.Int64Index is deprecated and will be removed from pandas in a future version. Use pandas.Index with the appropriate dtype instead.\n"
     ]
    },
    {
     "name": "stdout",
     "output_type": "stream",
     "text": [
      "[CV 1/5] END learning_rate=0.1, max_depth=10, n_estimators=350;, score=(train=-0.027, test=-1.523) total time= 2.8min\n"
     ]
    },
    {
     "name": "stderr",
     "output_type": "stream",
     "text": [
      "pandas.Int64Index is deprecated and will be removed from pandas in a future version. Use pandas.Index with the appropriate dtype instead.\n",
      "pandas.Int64Index is deprecated and will be removed from pandas in a future version. Use pandas.Index with the appropriate dtype instead.\n",
      "pandas.Int64Index is deprecated and will be removed from pandas in a future version. Use pandas.Index with the appropriate dtype instead.\n"
     ]
    },
    {
     "name": "stdout",
     "output_type": "stream",
     "text": [
      "[CV 2/5] END learning_rate=0.1, max_depth=10, n_estimators=350;, score=(train=-0.029, test=-1.138) total time= 2.7min\n"
     ]
    },
    {
     "name": "stderr",
     "output_type": "stream",
     "text": [
      "pandas.Int64Index is deprecated and will be removed from pandas in a future version. Use pandas.Index with the appropriate dtype instead.\n",
      "pandas.Int64Index is deprecated and will be removed from pandas in a future version. Use pandas.Index with the appropriate dtype instead.\n",
      "pandas.Int64Index is deprecated and will be removed from pandas in a future version. Use pandas.Index with the appropriate dtype instead.\n"
     ]
    },
    {
     "name": "stdout",
     "output_type": "stream",
     "text": [
      "[CV 3/5] END learning_rate=0.1, max_depth=10, n_estimators=350;, score=(train=-0.030, test=-1.035) total time= 2.7min\n"
     ]
    },
    {
     "name": "stderr",
     "output_type": "stream",
     "text": [
      "pandas.Int64Index is deprecated and will be removed from pandas in a future version. Use pandas.Index with the appropriate dtype instead.\n",
      "pandas.Int64Index is deprecated and will be removed from pandas in a future version. Use pandas.Index with the appropriate dtype instead.\n",
      "pandas.Int64Index is deprecated and will be removed from pandas in a future version. Use pandas.Index with the appropriate dtype instead.\n"
     ]
    },
    {
     "name": "stdout",
     "output_type": "stream",
     "text": [
      "[CV 4/5] END learning_rate=0.1, max_depth=10, n_estimators=350;, score=(train=-0.027, test=-1.191) total time= 2.9min\n"
     ]
    },
    {
     "name": "stderr",
     "output_type": "stream",
     "text": [
      "pandas.Int64Index is deprecated and will be removed from pandas in a future version. Use pandas.Index with the appropriate dtype instead.\n",
      "pandas.Int64Index is deprecated and will be removed from pandas in a future version. Use pandas.Index with the appropriate dtype instead.\n",
      "pandas.Int64Index is deprecated and will be removed from pandas in a future version. Use pandas.Index with the appropriate dtype instead.\n"
     ]
    },
    {
     "name": "stdout",
     "output_type": "stream",
     "text": [
      "[CV 5/5] END learning_rate=0.1, max_depth=10, n_estimators=350;, score=(train=-0.029, test=-1.260) total time= 2.6min\n"
     ]
    },
    {
     "name": "stderr",
     "output_type": "stream",
     "text": [
      "pandas.Int64Index is deprecated and will be removed from pandas in a future version. Use pandas.Index with the appropriate dtype instead.\n",
      "pandas.Int64Index is deprecated and will be removed from pandas in a future version. Use pandas.Index with the appropriate dtype instead.\n",
      "pandas.Int64Index is deprecated and will be removed from pandas in a future version. Use pandas.Index with the appropriate dtype instead.\n"
     ]
    },
    {
     "name": "stdout",
     "output_type": "stream",
     "text": [
      "[CV 1/5] END learning_rate=0.1, max_depth=10, n_estimators=400;, score=(train=-0.018, test=-1.523) total time= 2.9min\n"
     ]
    },
    {
     "name": "stderr",
     "output_type": "stream",
     "text": [
      "pandas.Int64Index is deprecated and will be removed from pandas in a future version. Use pandas.Index with the appropriate dtype instead.\n",
      "pandas.Int64Index is deprecated and will be removed from pandas in a future version. Use pandas.Index with the appropriate dtype instead.\n",
      "pandas.Int64Index is deprecated and will be removed from pandas in a future version. Use pandas.Index with the appropriate dtype instead.\n"
     ]
    },
    {
     "name": "stdout",
     "output_type": "stream",
     "text": [
      "[CV 2/5] END learning_rate=0.1, max_depth=10, n_estimators=400;, score=(train=-0.020, test=-1.138) total time= 2.9min\n"
     ]
    },
    {
     "name": "stderr",
     "output_type": "stream",
     "text": [
      "pandas.Int64Index is deprecated and will be removed from pandas in a future version. Use pandas.Index with the appropriate dtype instead.\n",
      "pandas.Int64Index is deprecated and will be removed from pandas in a future version. Use pandas.Index with the appropriate dtype instead.\n",
      "pandas.Int64Index is deprecated and will be removed from pandas in a future version. Use pandas.Index with the appropriate dtype instead.\n"
     ]
    },
    {
     "name": "stdout",
     "output_type": "stream",
     "text": [
      "[CV 3/5] END learning_rate=0.1, max_depth=10, n_estimators=400;, score=(train=-0.020, test=-1.035) total time= 2.9min\n"
     ]
    },
    {
     "name": "stderr",
     "output_type": "stream",
     "text": [
      "pandas.Int64Index is deprecated and will be removed from pandas in a future version. Use pandas.Index with the appropriate dtype instead.\n",
      "pandas.Int64Index is deprecated and will be removed from pandas in a future version. Use pandas.Index with the appropriate dtype instead.\n",
      "pandas.Int64Index is deprecated and will be removed from pandas in a future version. Use pandas.Index with the appropriate dtype instead.\n"
     ]
    },
    {
     "name": "stdout",
     "output_type": "stream",
     "text": [
      "[CV 4/5] END learning_rate=0.1, max_depth=10, n_estimators=400;, score=(train=-0.018, test=-1.190) total time= 3.3min\n"
     ]
    },
    {
     "name": "stderr",
     "output_type": "stream",
     "text": [
      "pandas.Int64Index is deprecated and will be removed from pandas in a future version. Use pandas.Index with the appropriate dtype instead.\n",
      "pandas.Int64Index is deprecated and will be removed from pandas in a future version. Use pandas.Index with the appropriate dtype instead.\n",
      "pandas.Int64Index is deprecated and will be removed from pandas in a future version. Use pandas.Index with the appropriate dtype instead.\n"
     ]
    },
    {
     "name": "stdout",
     "output_type": "stream",
     "text": [
      "[CV 5/5] END learning_rate=0.1, max_depth=10, n_estimators=400;, score=(train=-0.019, test=-1.260) total time= 3.1min\n"
     ]
    },
    {
     "name": "stderr",
     "output_type": "stream",
     "text": [
      "pandas.Int64Index is deprecated and will be removed from pandas in a future version. Use pandas.Index with the appropriate dtype instead.\n",
      "pandas.Int64Index is deprecated and will be removed from pandas in a future version. Use pandas.Index with the appropriate dtype instead.\n",
      "pandas.Int64Index is deprecated and will be removed from pandas in a future version. Use pandas.Index with the appropriate dtype instead.\n"
     ]
    },
    {
     "name": "stdout",
     "output_type": "stream",
     "text": [
      "[CV 1/5] END learning_rate=0.1, max_depth=10, n_estimators=450;, score=(train=-0.013, test=-1.523) total time= 3.1min\n"
     ]
    },
    {
     "name": "stderr",
     "output_type": "stream",
     "text": [
      "pandas.Int64Index is deprecated and will be removed from pandas in a future version. Use pandas.Index with the appropriate dtype instead.\n",
      "pandas.Int64Index is deprecated and will be removed from pandas in a future version. Use pandas.Index with the appropriate dtype instead.\n",
      "pandas.Int64Index is deprecated and will be removed from pandas in a future version. Use pandas.Index with the appropriate dtype instead.\n"
     ]
    },
    {
     "name": "stdout",
     "output_type": "stream",
     "text": [
      "[CV 2/5] END learning_rate=0.1, max_depth=10, n_estimators=450;, score=(train=-0.014, test=-1.138) total time= 3.1min\n"
     ]
    },
    {
     "name": "stderr",
     "output_type": "stream",
     "text": [
      "pandas.Int64Index is deprecated and will be removed from pandas in a future version. Use pandas.Index with the appropriate dtype instead.\n",
      "pandas.Int64Index is deprecated and will be removed from pandas in a future version. Use pandas.Index with the appropriate dtype instead.\n",
      "pandas.Int64Index is deprecated and will be removed from pandas in a future version. Use pandas.Index with the appropriate dtype instead.\n"
     ]
    },
    {
     "name": "stdout",
     "output_type": "stream",
     "text": [
      "[CV 3/5] END learning_rate=0.1, max_depth=10, n_estimators=450;, score=(train=-0.014, test=-1.035) total time= 3.1min\n"
     ]
    },
    {
     "name": "stderr",
     "output_type": "stream",
     "text": [
      "pandas.Int64Index is deprecated and will be removed from pandas in a future version. Use pandas.Index with the appropriate dtype instead.\n",
      "pandas.Int64Index is deprecated and will be removed from pandas in a future version. Use pandas.Index with the appropriate dtype instead.\n",
      "pandas.Int64Index is deprecated and will be removed from pandas in a future version. Use pandas.Index with the appropriate dtype instead.\n"
     ]
    },
    {
     "name": "stdout",
     "output_type": "stream",
     "text": [
      "[CV 4/5] END learning_rate=0.1, max_depth=10, n_estimators=450;, score=(train=-0.013, test=-1.190) total time= 3.3min\n"
     ]
    },
    {
     "name": "stderr",
     "output_type": "stream",
     "text": [
      "pandas.Int64Index is deprecated and will be removed from pandas in a future version. Use pandas.Index with the appropriate dtype instead.\n",
      "pandas.Int64Index is deprecated and will be removed from pandas in a future version. Use pandas.Index with the appropriate dtype instead.\n",
      "pandas.Int64Index is deprecated and will be removed from pandas in a future version. Use pandas.Index with the appropriate dtype instead.\n"
     ]
    },
    {
     "name": "stdout",
     "output_type": "stream",
     "text": [
      "[CV 5/5] END learning_rate=0.1, max_depth=10, n_estimators=450;, score=(train=-0.014, test=-1.260) total time= 3.5min\n"
     ]
    },
    {
     "name": "stderr",
     "output_type": "stream",
     "text": [
      "pandas.Int64Index is deprecated and will be removed from pandas in a future version. Use pandas.Index with the appropriate dtype instead.\n",
      "2024-02-21 11:31:20,818 | INFO : Best hyperparameters: {'n_estimators': 450, 'max_depth': 10, 'learning_rate': 0.1}\n",
      "2024-02-21 11:31:20,818 | INFO : Corresponding score: -1.2293064327385603\n",
      "2024-02-21 11:31:20,971 | INFO : No abort signal received. Continuing... To abort please create C:\\Users\\utente\\ufo-prediction\\metadata\\local-ca1b3f6e.abort.\n",
      "2024-02-21 11:31:20,971 | INFO : Dataset standard deviation: 2.51624475867245\n",
      "2024-02-21 11:31:20,987 | INFO : Dataset mean age: 5.505932833505\n",
      "2024-02-21 11:31:20,989 | INFO : Training dataset length: 16000\n",
      "2024-02-21 11:31:20,992 | INFO : Test dataset length: 4000\n",
      "2024-02-21 11:31:21,200 | INFO : Test dataset standard deviation after preprocessing: 2.386129461215654\n",
      "2024-02-21 11:31:21,200 | INFO : Test dataset mean age after preprocessing: 5.4486180414664975\n",
      "2024-02-21 11:31:21,200 | INFO : Training dataset length after preprocessing: 15831\n",
      "2024-02-21 11:31:21,213 | INFO : Test dataset length after preprocessing: 3955\n",
      "The total space of parameters 3 is smaller than n_iter=20. Running 3 iterations. For exhaustive searches, use GridSearchCV.\n",
      "pandas.Int64Index is deprecated and will be removed from pandas in a future version. Use pandas.Index with the appropriate dtype instead.\n"
     ]
    },
    {
     "name": "stdout",
     "output_type": "stream",
     "text": [
      "Fitting 5 folds for each of 3 candidates, totalling 15 fits\n"
     ]
    },
    {
     "name": "stderr",
     "output_type": "stream",
     "text": [
      "pandas.Int64Index is deprecated and will be removed from pandas in a future version. Use pandas.Index with the appropriate dtype instead.\n",
      "pandas.Int64Index is deprecated and will be removed from pandas in a future version. Use pandas.Index with the appropriate dtype instead.\n"
     ]
    },
    {
     "name": "stdout",
     "output_type": "stream",
     "text": [
      "[CV 1/5] END learning_rate=0.1, max_depth=10, n_estimators=350;, score=(train=-0.019, test=-1.379) total time= 2.4min\n"
     ]
    },
    {
     "name": "stderr",
     "output_type": "stream",
     "text": [
      "pandas.Int64Index is deprecated and will be removed from pandas in a future version. Use pandas.Index with the appropriate dtype instead.\n",
      "pandas.Int64Index is deprecated and will be removed from pandas in a future version. Use pandas.Index with the appropriate dtype instead.\n",
      "pandas.Int64Index is deprecated and will be removed from pandas in a future version. Use pandas.Index with the appropriate dtype instead.\n"
     ]
    },
    {
     "name": "stdout",
     "output_type": "stream",
     "text": [
      "[CV 2/5] END learning_rate=0.1, max_depth=10, n_estimators=350;, score=(train=-0.018, test=-1.375) total time= 2.4min\n"
     ]
    },
    {
     "name": "stderr",
     "output_type": "stream",
     "text": [
      "pandas.Int64Index is deprecated and will be removed from pandas in a future version. Use pandas.Index with the appropriate dtype instead.\n",
      "pandas.Int64Index is deprecated and will be removed from pandas in a future version. Use pandas.Index with the appropriate dtype instead.\n",
      "pandas.Int64Index is deprecated and will be removed from pandas in a future version. Use pandas.Index with the appropriate dtype instead.\n"
     ]
    },
    {
     "name": "stdout",
     "output_type": "stream",
     "text": [
      "[CV 3/5] END learning_rate=0.1, max_depth=10, n_estimators=350;, score=(train=-0.019, test=-1.096) total time= 2.3min\n"
     ]
    },
    {
     "name": "stderr",
     "output_type": "stream",
     "text": [
      "pandas.Int64Index is deprecated and will be removed from pandas in a future version. Use pandas.Index with the appropriate dtype instead.\n",
      "pandas.Int64Index is deprecated and will be removed from pandas in a future version. Use pandas.Index with the appropriate dtype instead.\n",
      "pandas.Int64Index is deprecated and will be removed from pandas in a future version. Use pandas.Index with the appropriate dtype instead.\n"
     ]
    },
    {
     "name": "stdout",
     "output_type": "stream",
     "text": [
      "[CV 4/5] END learning_rate=0.1, max_depth=10, n_estimators=350;, score=(train=-0.016, test=-1.515) total time= 3.3min\n"
     ]
    },
    {
     "name": "stderr",
     "output_type": "stream",
     "text": [
      "pandas.Int64Index is deprecated and will be removed from pandas in a future version. Use pandas.Index with the appropriate dtype instead.\n",
      "pandas.Int64Index is deprecated and will be removed from pandas in a future version. Use pandas.Index with the appropriate dtype instead.\n",
      "pandas.Int64Index is deprecated and will be removed from pandas in a future version. Use pandas.Index with the appropriate dtype instead.\n"
     ]
    },
    {
     "name": "stdout",
     "output_type": "stream",
     "text": [
      "[CV 5/5] END learning_rate=0.1, max_depth=10, n_estimators=350;, score=(train=-0.017, test=-1.137) total time= 3.3min\n"
     ]
    },
    {
     "name": "stderr",
     "output_type": "stream",
     "text": [
      "pandas.Int64Index is deprecated and will be removed from pandas in a future version. Use pandas.Index with the appropriate dtype instead.\n"
     ]
    },
    {
     "ename": "KeyboardInterrupt",
     "evalue": "",
     "output_type": "error",
     "traceback": [
      "\u001b[1;31m---------------------------------------------------------------------------\u001b[0m",
      "\u001b[1;31mKeyboardInterrupt\u001b[0m                         Traceback (most recent call last)",
      "Cell \u001b[1;32mIn[89], line 11\u001b[0m\n\u001b[0;32m      2\u001b[0m RESULT_DIR \u001b[38;5;241m=\u001b[39m \u001b[38;5;124m\"\u001b[39m\u001b[38;5;124mC:\u001b[39m\u001b[38;5;130;01m\\\\\u001b[39;00m\u001b[38;5;124mUsers\u001b[39m\u001b[38;5;130;01m\\\\\u001b[39;00m\u001b[38;5;124mutente\u001b[39m\u001b[38;5;130;01m\\\\\u001b[39;00m\u001b[38;5;124mufo-prediction\u001b[39m\u001b[38;5;130;01m\\\\\u001b[39;00m\u001b[38;5;124mresults\u001b[39m\u001b[38;5;124m\"\u001b[39m\n\u001b[0;32m      4\u001b[0m \u001b[38;5;66;03m# height_local_train_ESPset = aux_set.iloc[600:, :]\u001b[39;00m\n\u001b[0;32m      5\u001b[0m \u001b[38;5;66;03m# height_local_train_ESPset = height_local_train_ESPset.dropna(subset=[\"height\"])\u001b[39;00m\n\u001b[0;32m      6\u001b[0m \u001b[38;5;66;03m# height_local_train_ESPset.info()\u001b[39;00m\n\u001b[1;32m   (...)\u001b[0m\n\u001b[0;32m      9\u001b[0m \u001b[38;5;66;03m#     print(height_local_train_ESPset.info())\u001b[39;00m\n\u001b[0;32m     10\u001b[0m     \u001b[38;5;66;03m# df_tuning = pd.concat([aux_local_train, height_foreign_train_NLDset])\u001b[39;00m\n\u001b[1;32m---> 11\u001b[0m predictor \u001b[38;5;241m=\u001b[39m HeightPredictor(\n\u001b[0;32m     12\u001b[0m     model\u001b[38;5;241m=\u001b[39mXGBRegressor(\u001b[38;5;241m*\u001b[39m\u001b[38;5;241m*\u001b[39mxgb_model_params),\n\u001b[0;32m     13\u001b[0m     df \u001b[38;5;241m=\u001b[39m height_foreign_train_NLDset,\n\u001b[0;32m     14\u001b[0m     cross_validation_split\u001b[38;5;241m=\u001b[39mpp\u001b[38;5;241m.\u001b[39mcross_validation,\n\u001b[0;32m     15\u001b[0m     early_stopping\u001b[38;5;241m=\u001b[39m\u001b[38;5;28;01mTrue\u001b[39;00m,\n\u001b[0;32m     16\u001b[0m     hyperparameter_tuning_only\u001b[38;5;241m=\u001b[39m\u001b[38;5;28;01mTrue\u001b[39;00m,\n\u001b[0;32m     17\u001b[0m     hyperparameter_tuning_space\u001b[38;5;241m=\u001b[39mreg_params,\n\u001b[0;32m     18\u001b[0m     preprocessing_stages\u001b[38;5;241m=\u001b[39m[pp\u001b[38;5;241m.\u001b[39mremove_outliers]\n\u001b[0;32m     19\u001b[0m )\n\u001b[0;32m     20\u001b[0m logger\u001b[38;5;241m.\u001b[39minfo(\u001b[38;5;124m'\u001b[39m\u001b[38;5;124mSaving hyperparameter optimized model...\u001b[39m\u001b[38;5;124m'\u001b[39m)\n\u001b[0;32m     21\u001b[0m timestr \u001b[38;5;241m=\u001b[39m time\u001b[38;5;241m.\u001b[39mstrftime(\u001b[38;5;124m'\u001b[39m\u001b[38;5;124m%\u001b[39m\u001b[38;5;124mY\u001b[39m\u001b[38;5;124m%\u001b[39m\u001b[38;5;124mm\u001b[39m\u001b[38;5;132;01m%d\u001b[39;00m\u001b[38;5;124m-\u001b[39m\u001b[38;5;124m%\u001b[39m\u001b[38;5;124mH-\u001b[39m\u001b[38;5;124m%\u001b[39m\u001b[38;5;124mM-\u001b[39m\u001b[38;5;124m%\u001b[39m\u001b[38;5;124mS\u001b[39m\u001b[38;5;124m'\u001b[39m)\n",
      "File \u001b[1;32mc:\\Users\\utente\\ufo-prediction\\demo\\..\\src\\prediction_age.py:293\u001b[0m, in \u001b[0;36mHeightPredictor.__init__\u001b[1;34m(self, *args, **kwargs)\u001b[0m\n\u001b[0;32m    292\u001b[0m \u001b[38;5;28;01mdef\u001b[39;00m \u001b[38;5;21m__init__\u001b[39m(\u001b[38;5;28mself\u001b[39m, \u001b[38;5;241m*\u001b[39margs, \u001b[38;5;241m*\u001b[39m\u001b[38;5;241m*\u001b[39mkwargs):\n\u001b[1;32m--> 293\u001b[0m     \u001b[38;5;28msuper\u001b[39m()\u001b[38;5;241m.\u001b[39m\u001b[38;5;21m__init__\u001b[39m(\u001b[38;5;241m*\u001b[39margs, \u001b[38;5;241m*\u001b[39m\u001b[38;5;241m*\u001b[39mkwargs, target_attribute\u001b[38;5;241m=\u001b[39mdataset\u001b[38;5;241m.\u001b[39mHEIGHT_ATTRIBUTE)\n",
      "File \u001b[1;32mc:\\Users\\utente\\ufo-prediction\\demo\\..\\src\\prediction.py:477\u001b[0m, in \u001b[0;36mRegressor.__init__\u001b[1;34m(self, *args, **kwargs)\u001b[0m\n\u001b[0;32m    476\u001b[0m \u001b[38;5;28;01mdef\u001b[39;00m \u001b[38;5;21m__init__\u001b[39m(\u001b[38;5;28mself\u001b[39m, \u001b[38;5;241m*\u001b[39margs, \u001b[38;5;241m*\u001b[39m\u001b[38;5;241m*\u001b[39mkwargs):\n\u001b[1;32m--> 477\u001b[0m     \u001b[38;5;28msuper\u001b[39m()\u001b[38;5;241m.\u001b[39m\u001b[38;5;21m__init__\u001b[39m(\u001b[38;5;241m*\u001b[39margs, \u001b[38;5;241m*\u001b[39m\u001b[38;5;241m*\u001b[39mkwargs)\n",
      "File \u001b[1;32mc:\\Users\\utente\\ufo-prediction\\demo\\..\\src\\prediction.py:84\u001b[0m, in \u001b[0;36mPredictor.__init__\u001b[1;34m(self, model, df, frac, n_cities, test_set, test_training_split, cross_validation_split, preprocessing_stages, target_attribute, mitigate_class_imbalance, early_stopping, hyperparameter_n_iter, hyperparameter_tuning_space, hyperparameter_tuning_only, hyperparameters, initialize_only)\u001b[0m\n\u001b[0;32m     81\u001b[0m \u001b[38;5;28mself\u001b[39m\u001b[38;5;241m.\u001b[39mhyperparameter_tuning_results \u001b[38;5;241m=\u001b[39m \u001b[38;5;28;01mNone\u001b[39;00m\n\u001b[0;32m     83\u001b[0m \u001b[38;5;28;01mif\u001b[39;00m \u001b[38;5;129;01mnot\u001b[39;00m initialize_only:\n\u001b[1;32m---> 84\u001b[0m     \u001b[38;5;28mself\u001b[39m\u001b[38;5;241m.\u001b[39m_e2e_training()\n",
      "File \u001b[1;32mc:\\Users\\utente\\ufo-prediction\\demo\\..\\src\\prediction.py:97\u001b[0m, in \u001b[0;36mPredictor._e2e_training\u001b[1;34m(self)\u001b[0m\n\u001b[0;32m     95\u001b[0m \u001b[38;5;28mself\u001b[39m\u001b[38;5;241m.\u001b[39m_preprocess()\n\u001b[0;32m     96\u001b[0m \u001b[38;5;28mself\u001b[39m\u001b[38;5;241m.\u001b[39m_post_preprocess_analysis_hook()\n\u001b[1;32m---> 97\u001b[0m \u001b[38;5;28mself\u001b[39m\u001b[38;5;241m.\u001b[39m_train()\n\u001b[0;32m     98\u001b[0m \u001b[38;5;28mself\u001b[39m\u001b[38;5;241m.\u001b[39m_predict()\n",
      "File \u001b[1;32mc:\\Users\\utente\\ufo-prediction\\demo\\..\\src\\prediction.py:190\u001b[0m, in \u001b[0;36mPredictor._train\u001b[1;34m(self)\u001b[0m\n\u001b[0;32m    183\u001b[0m fit_params \u001b[38;5;241m=\u001b[39m {\n\u001b[0;32m    184\u001b[0m     \u001b[38;5;124m'\u001b[39m\u001b[38;5;124mX\u001b[39m\u001b[38;5;124m'\u001b[39m: \u001b[38;5;28mself\u001b[39m\u001b[38;5;241m.\u001b[39mX_train,\n\u001b[0;32m    185\u001b[0m     \u001b[38;5;124m'\u001b[39m\u001b[38;5;124my\u001b[39m\u001b[38;5;124m'\u001b[39m: \u001b[38;5;28mself\u001b[39m\u001b[38;5;241m.\u001b[39my_train,\n\u001b[0;32m    186\u001b[0m     \u001b[38;5;124m'\u001b[39m\u001b[38;5;124msample_weight\u001b[39m\u001b[38;5;124m'\u001b[39m: \u001b[38;5;28mself\u001b[39m\u001b[38;5;241m.\u001b[39msample_weights,\n\u001b[0;32m    187\u001b[0m }\n\u001b[0;32m    189\u001b[0m \u001b[38;5;28;01mif\u001b[39;00m \u001b[38;5;28mself\u001b[39m\u001b[38;5;241m.\u001b[39mhyperparameter_tuning_space:\n\u001b[1;32m--> 190\u001b[0m     \u001b[38;5;28mself\u001b[39m\u001b[38;5;241m.\u001b[39m_tune_hyperparameters(fit_params)\n\u001b[0;32m    191\u001b[0m     \u001b[38;5;28;01mreturn\u001b[39;00m\n\u001b[0;32m    193\u001b[0m \u001b[38;5;28;01mif\u001b[39;00m \u001b[38;5;28mself\u001b[39m\u001b[38;5;241m.\u001b[39mhyperparameters:\n",
      "File \u001b[1;32mc:\\Users\\utente\\ufo-prediction\\demo\\..\\src\\prediction.py:253\u001b[0m, in \u001b[0;36mPredictor._tune_hyperparameters\u001b[1;34m(self, fit_params, grid)\u001b[0m\n\u001b[0;32m    239\u001b[0m \u001b[38;5;28;01melse\u001b[39;00m:\n\u001b[0;32m    240\u001b[0m     \u001b[38;5;66;03m# TODO remove scoring='neg_root_mean_squared_error' to use estimator's score method\u001b[39;00m\n\u001b[0;32m    241\u001b[0m     \u001b[38;5;66;03m# (however it uses R2 although reg:squarederror is default for xgboost regression)\u001b[39;00m\n\u001b[0;32m    242\u001b[0m     clf \u001b[38;5;241m=\u001b[39m model_selection\u001b[38;5;241m.\u001b[39mRandomizedSearchCV(\n\u001b[0;32m    243\u001b[0m         estimator\u001b[38;5;241m=\u001b[39m\u001b[38;5;28mself\u001b[39m\u001b[38;5;241m.\u001b[39mmodel,\n\u001b[0;32m    244\u001b[0m         n_iter\u001b[38;5;241m=\u001b[39m\u001b[38;5;28mself\u001b[39m\u001b[38;5;241m.\u001b[39mhyperparameter_n_iter,\n\u001b[1;32m   (...)\u001b[0m\n\u001b[0;32m    250\u001b[0m         random_state\u001b[38;5;241m=\u001b[39mdataset\u001b[38;5;241m.\u001b[39mGLOBAL_REPRODUCIBILITY_SEED\n\u001b[0;32m    251\u001b[0m     )\n\u001b[1;32m--> 253\u001b[0m clf\u001b[38;5;241m.\u001b[39mfit(\u001b[38;5;241m*\u001b[39m\u001b[38;5;241m*\u001b[39mfit_params)\n\u001b[0;32m    255\u001b[0m \u001b[38;5;28mself\u001b[39m\u001b[38;5;241m.\u001b[39mmodel \u001b[38;5;241m=\u001b[39m clf\u001b[38;5;241m.\u001b[39mbest_estimator_\n\u001b[0;32m    256\u001b[0m \u001b[38;5;28mself\u001b[39m\u001b[38;5;241m.\u001b[39mhyperparameter_tuning_results \u001b[38;5;241m=\u001b[39m clf\u001b[38;5;241m.\u001b[39mcv_results_\n",
      "File \u001b[1;32mc:\\Users\\utente\\anaconda3\\Lib\\site-packages\\sklearn\\model_selection\\_search.py:874\u001b[0m, in \u001b[0;36mBaseSearchCV.fit\u001b[1;34m(self, X, y, groups, **fit_params)\u001b[0m\n\u001b[0;32m    868\u001b[0m     results \u001b[38;5;241m=\u001b[39m \u001b[38;5;28mself\u001b[39m\u001b[38;5;241m.\u001b[39m_format_results(\n\u001b[0;32m    869\u001b[0m         all_candidate_params, n_splits, all_out, all_more_results\n\u001b[0;32m    870\u001b[0m     )\n\u001b[0;32m    872\u001b[0m     \u001b[38;5;28;01mreturn\u001b[39;00m results\n\u001b[1;32m--> 874\u001b[0m \u001b[38;5;28mself\u001b[39m\u001b[38;5;241m.\u001b[39m_run_search(evaluate_candidates)\n\u001b[0;32m    876\u001b[0m \u001b[38;5;66;03m# multimetric is determined here because in the case of a callable\u001b[39;00m\n\u001b[0;32m    877\u001b[0m \u001b[38;5;66;03m# self.scoring the return type is only known after calling\u001b[39;00m\n\u001b[0;32m    878\u001b[0m first_test_score \u001b[38;5;241m=\u001b[39m all_out[\u001b[38;5;241m0\u001b[39m][\u001b[38;5;124m\"\u001b[39m\u001b[38;5;124mtest_scores\u001b[39m\u001b[38;5;124m\"\u001b[39m]\n",
      "File \u001b[1;32mc:\\Users\\utente\\anaconda3\\Lib\\site-packages\\sklearn\\model_selection\\_search.py:1768\u001b[0m, in \u001b[0;36mRandomizedSearchCV._run_search\u001b[1;34m(self, evaluate_candidates)\u001b[0m\n\u001b[0;32m   1766\u001b[0m \u001b[38;5;28;01mdef\u001b[39;00m \u001b[38;5;21m_run_search\u001b[39m(\u001b[38;5;28mself\u001b[39m, evaluate_candidates):\n\u001b[0;32m   1767\u001b[0m \u001b[38;5;250m    \u001b[39m\u001b[38;5;124;03m\"\"\"Search n_iter candidates from param_distributions\"\"\"\u001b[39;00m\n\u001b[1;32m-> 1768\u001b[0m     evaluate_candidates(\n\u001b[0;32m   1769\u001b[0m         ParameterSampler(\n\u001b[0;32m   1770\u001b[0m             \u001b[38;5;28mself\u001b[39m\u001b[38;5;241m.\u001b[39mparam_distributions, \u001b[38;5;28mself\u001b[39m\u001b[38;5;241m.\u001b[39mn_iter, random_state\u001b[38;5;241m=\u001b[39m\u001b[38;5;28mself\u001b[39m\u001b[38;5;241m.\u001b[39mrandom_state\n\u001b[0;32m   1771\u001b[0m         )\n\u001b[0;32m   1772\u001b[0m     )\n",
      "File \u001b[1;32mc:\\Users\\utente\\anaconda3\\Lib\\site-packages\\sklearn\\model_selection\\_search.py:821\u001b[0m, in \u001b[0;36mBaseSearchCV.fit.<locals>.evaluate_candidates\u001b[1;34m(candidate_params, cv, more_results)\u001b[0m\n\u001b[0;32m    813\u001b[0m \u001b[38;5;28;01mif\u001b[39;00m \u001b[38;5;28mself\u001b[39m\u001b[38;5;241m.\u001b[39mverbose \u001b[38;5;241m>\u001b[39m \u001b[38;5;241m0\u001b[39m:\n\u001b[0;32m    814\u001b[0m     \u001b[38;5;28mprint\u001b[39m(\n\u001b[0;32m    815\u001b[0m         \u001b[38;5;124m\"\u001b[39m\u001b[38;5;124mFitting \u001b[39m\u001b[38;5;132;01m{0}\u001b[39;00m\u001b[38;5;124m folds for each of \u001b[39m\u001b[38;5;132;01m{1}\u001b[39;00m\u001b[38;5;124m candidates,\u001b[39m\u001b[38;5;124m\"\u001b[39m\n\u001b[0;32m    816\u001b[0m         \u001b[38;5;124m\"\u001b[39m\u001b[38;5;124m totalling \u001b[39m\u001b[38;5;132;01m{2}\u001b[39;00m\u001b[38;5;124m fits\u001b[39m\u001b[38;5;124m\"\u001b[39m\u001b[38;5;241m.\u001b[39mformat(\n\u001b[0;32m    817\u001b[0m             n_splits, n_candidates, n_candidates \u001b[38;5;241m*\u001b[39m n_splits\n\u001b[0;32m    818\u001b[0m         )\n\u001b[0;32m    819\u001b[0m     )\n\u001b[1;32m--> 821\u001b[0m out \u001b[38;5;241m=\u001b[39m parallel(\n\u001b[0;32m    822\u001b[0m     delayed(_fit_and_score)(\n\u001b[0;32m    823\u001b[0m         clone(base_estimator),\n\u001b[0;32m    824\u001b[0m         X,\n\u001b[0;32m    825\u001b[0m         y,\n\u001b[0;32m    826\u001b[0m         train\u001b[38;5;241m=\u001b[39mtrain,\n\u001b[0;32m    827\u001b[0m         test\u001b[38;5;241m=\u001b[39mtest,\n\u001b[0;32m    828\u001b[0m         parameters\u001b[38;5;241m=\u001b[39mparameters,\n\u001b[0;32m    829\u001b[0m         split_progress\u001b[38;5;241m=\u001b[39m(split_idx, n_splits),\n\u001b[0;32m    830\u001b[0m         candidate_progress\u001b[38;5;241m=\u001b[39m(cand_idx, n_candidates),\n\u001b[0;32m    831\u001b[0m         \u001b[38;5;241m*\u001b[39m\u001b[38;5;241m*\u001b[39mfit_and_score_kwargs,\n\u001b[0;32m    832\u001b[0m     )\n\u001b[0;32m    833\u001b[0m     \u001b[38;5;28;01mfor\u001b[39;00m (cand_idx, parameters), (split_idx, (train, test)) \u001b[38;5;129;01min\u001b[39;00m product(\n\u001b[0;32m    834\u001b[0m         \u001b[38;5;28menumerate\u001b[39m(candidate_params), \u001b[38;5;28menumerate\u001b[39m(cv\u001b[38;5;241m.\u001b[39msplit(X, y, groups))\n\u001b[0;32m    835\u001b[0m     )\n\u001b[0;32m    836\u001b[0m )\n\u001b[0;32m    838\u001b[0m \u001b[38;5;28;01mif\u001b[39;00m \u001b[38;5;28mlen\u001b[39m(out) \u001b[38;5;241m<\u001b[39m \u001b[38;5;241m1\u001b[39m:\n\u001b[0;32m    839\u001b[0m     \u001b[38;5;28;01mraise\u001b[39;00m \u001b[38;5;167;01mValueError\u001b[39;00m(\n\u001b[0;32m    840\u001b[0m         \u001b[38;5;124m\"\u001b[39m\u001b[38;5;124mNo fits were performed. \u001b[39m\u001b[38;5;124m\"\u001b[39m\n\u001b[0;32m    841\u001b[0m         \u001b[38;5;124m\"\u001b[39m\u001b[38;5;124mWas the CV iterator empty? \u001b[39m\u001b[38;5;124m\"\u001b[39m\n\u001b[0;32m    842\u001b[0m         \u001b[38;5;124m\"\u001b[39m\u001b[38;5;124mWere there no candidates?\u001b[39m\u001b[38;5;124m\"\u001b[39m\n\u001b[0;32m    843\u001b[0m     )\n",
      "File \u001b[1;32mc:\\Users\\utente\\anaconda3\\Lib\\site-packages\\sklearn\\utils\\parallel.py:63\u001b[0m, in \u001b[0;36mParallel.__call__\u001b[1;34m(self, iterable)\u001b[0m\n\u001b[0;32m     58\u001b[0m config \u001b[38;5;241m=\u001b[39m get_config()\n\u001b[0;32m     59\u001b[0m iterable_with_config \u001b[38;5;241m=\u001b[39m (\n\u001b[0;32m     60\u001b[0m     (_with_config(delayed_func, config), args, kwargs)\n\u001b[0;32m     61\u001b[0m     \u001b[38;5;28;01mfor\u001b[39;00m delayed_func, args, kwargs \u001b[38;5;129;01min\u001b[39;00m iterable\n\u001b[0;32m     62\u001b[0m )\n\u001b[1;32m---> 63\u001b[0m \u001b[38;5;28;01mreturn\u001b[39;00m \u001b[38;5;28msuper\u001b[39m()\u001b[38;5;241m.\u001b[39m\u001b[38;5;21m__call__\u001b[39m(iterable_with_config)\n",
      "File \u001b[1;32mc:\\Users\\utente\\anaconda3\\Lib\\site-packages\\joblib\\parallel.py:1088\u001b[0m, in \u001b[0;36mParallel.__call__\u001b[1;34m(self, iterable)\u001b[0m\n\u001b[0;32m   1085\u001b[0m \u001b[38;5;28;01mif\u001b[39;00m \u001b[38;5;28mself\u001b[39m\u001b[38;5;241m.\u001b[39mdispatch_one_batch(iterator):\n\u001b[0;32m   1086\u001b[0m     \u001b[38;5;28mself\u001b[39m\u001b[38;5;241m.\u001b[39m_iterating \u001b[38;5;241m=\u001b[39m \u001b[38;5;28mself\u001b[39m\u001b[38;5;241m.\u001b[39m_original_iterator \u001b[38;5;129;01mis\u001b[39;00m \u001b[38;5;129;01mnot\u001b[39;00m \u001b[38;5;28;01mNone\u001b[39;00m\n\u001b[1;32m-> 1088\u001b[0m \u001b[38;5;28;01mwhile\u001b[39;00m \u001b[38;5;28mself\u001b[39m\u001b[38;5;241m.\u001b[39mdispatch_one_batch(iterator):\n\u001b[0;32m   1089\u001b[0m     \u001b[38;5;28;01mpass\u001b[39;00m\n\u001b[0;32m   1091\u001b[0m \u001b[38;5;28;01mif\u001b[39;00m pre_dispatch \u001b[38;5;241m==\u001b[39m \u001b[38;5;124m\"\u001b[39m\u001b[38;5;124mall\u001b[39m\u001b[38;5;124m\"\u001b[39m \u001b[38;5;129;01mor\u001b[39;00m n_jobs \u001b[38;5;241m==\u001b[39m \u001b[38;5;241m1\u001b[39m:\n\u001b[0;32m   1092\u001b[0m     \u001b[38;5;66;03m# The iterable was consumed all at once by the above for loop.\u001b[39;00m\n\u001b[0;32m   1093\u001b[0m     \u001b[38;5;66;03m# No need to wait for async callbacks to trigger to\u001b[39;00m\n\u001b[0;32m   1094\u001b[0m     \u001b[38;5;66;03m# consumption.\u001b[39;00m\n",
      "File \u001b[1;32mc:\\Users\\utente\\anaconda3\\Lib\\site-packages\\joblib\\parallel.py:901\u001b[0m, in \u001b[0;36mParallel.dispatch_one_batch\u001b[1;34m(self, iterator)\u001b[0m\n\u001b[0;32m    899\u001b[0m     \u001b[38;5;28;01mreturn\u001b[39;00m \u001b[38;5;28;01mFalse\u001b[39;00m\n\u001b[0;32m    900\u001b[0m \u001b[38;5;28;01melse\u001b[39;00m:\n\u001b[1;32m--> 901\u001b[0m     \u001b[38;5;28mself\u001b[39m\u001b[38;5;241m.\u001b[39m_dispatch(tasks)\n\u001b[0;32m    902\u001b[0m     \u001b[38;5;28;01mreturn\u001b[39;00m \u001b[38;5;28;01mTrue\u001b[39;00m\n",
      "File \u001b[1;32mc:\\Users\\utente\\anaconda3\\Lib\\site-packages\\joblib\\parallel.py:819\u001b[0m, in \u001b[0;36mParallel._dispatch\u001b[1;34m(self, batch)\u001b[0m\n\u001b[0;32m    817\u001b[0m \u001b[38;5;28;01mwith\u001b[39;00m \u001b[38;5;28mself\u001b[39m\u001b[38;5;241m.\u001b[39m_lock:\n\u001b[0;32m    818\u001b[0m     job_idx \u001b[38;5;241m=\u001b[39m \u001b[38;5;28mlen\u001b[39m(\u001b[38;5;28mself\u001b[39m\u001b[38;5;241m.\u001b[39m_jobs)\n\u001b[1;32m--> 819\u001b[0m     job \u001b[38;5;241m=\u001b[39m \u001b[38;5;28mself\u001b[39m\u001b[38;5;241m.\u001b[39m_backend\u001b[38;5;241m.\u001b[39mapply_async(batch, callback\u001b[38;5;241m=\u001b[39mcb)\n\u001b[0;32m    820\u001b[0m     \u001b[38;5;66;03m# A job can complete so quickly than its callback is\u001b[39;00m\n\u001b[0;32m    821\u001b[0m     \u001b[38;5;66;03m# called before we get here, causing self._jobs to\u001b[39;00m\n\u001b[0;32m    822\u001b[0m     \u001b[38;5;66;03m# grow. To ensure correct results ordering, .insert is\u001b[39;00m\n\u001b[0;32m    823\u001b[0m     \u001b[38;5;66;03m# used (rather than .append) in the following line\u001b[39;00m\n\u001b[0;32m    824\u001b[0m     \u001b[38;5;28mself\u001b[39m\u001b[38;5;241m.\u001b[39m_jobs\u001b[38;5;241m.\u001b[39minsert(job_idx, job)\n",
      "File \u001b[1;32mc:\\Users\\utente\\anaconda3\\Lib\\site-packages\\joblib\\_parallel_backends.py:208\u001b[0m, in \u001b[0;36mSequentialBackend.apply_async\u001b[1;34m(self, func, callback)\u001b[0m\n\u001b[0;32m    206\u001b[0m \u001b[38;5;28;01mdef\u001b[39;00m \u001b[38;5;21mapply_async\u001b[39m(\u001b[38;5;28mself\u001b[39m, func, callback\u001b[38;5;241m=\u001b[39m\u001b[38;5;28;01mNone\u001b[39;00m):\n\u001b[0;32m    207\u001b[0m \u001b[38;5;250m    \u001b[39m\u001b[38;5;124;03m\"\"\"Schedule a func to be run\"\"\"\u001b[39;00m\n\u001b[1;32m--> 208\u001b[0m     result \u001b[38;5;241m=\u001b[39m ImmediateResult(func)\n\u001b[0;32m    209\u001b[0m     \u001b[38;5;28;01mif\u001b[39;00m callback:\n\u001b[0;32m    210\u001b[0m         callback(result)\n",
      "File \u001b[1;32mc:\\Users\\utente\\anaconda3\\Lib\\site-packages\\joblib\\_parallel_backends.py:597\u001b[0m, in \u001b[0;36mImmediateResult.__init__\u001b[1;34m(self, batch)\u001b[0m\n\u001b[0;32m    594\u001b[0m \u001b[38;5;28;01mdef\u001b[39;00m \u001b[38;5;21m__init__\u001b[39m(\u001b[38;5;28mself\u001b[39m, batch):\n\u001b[0;32m    595\u001b[0m     \u001b[38;5;66;03m# Don't delay the application, to avoid keeping the input\u001b[39;00m\n\u001b[0;32m    596\u001b[0m     \u001b[38;5;66;03m# arguments in memory\u001b[39;00m\n\u001b[1;32m--> 597\u001b[0m     \u001b[38;5;28mself\u001b[39m\u001b[38;5;241m.\u001b[39mresults \u001b[38;5;241m=\u001b[39m batch()\n",
      "File \u001b[1;32mc:\\Users\\utente\\anaconda3\\Lib\\site-packages\\joblib\\parallel.py:288\u001b[0m, in \u001b[0;36mBatchedCalls.__call__\u001b[1;34m(self)\u001b[0m\n\u001b[0;32m    284\u001b[0m \u001b[38;5;28;01mdef\u001b[39;00m \u001b[38;5;21m__call__\u001b[39m(\u001b[38;5;28mself\u001b[39m):\n\u001b[0;32m    285\u001b[0m     \u001b[38;5;66;03m# Set the default nested backend to self._backend but do not set the\u001b[39;00m\n\u001b[0;32m    286\u001b[0m     \u001b[38;5;66;03m# change the default number of processes to -1\u001b[39;00m\n\u001b[0;32m    287\u001b[0m     \u001b[38;5;28;01mwith\u001b[39;00m parallel_backend(\u001b[38;5;28mself\u001b[39m\u001b[38;5;241m.\u001b[39m_backend, n_jobs\u001b[38;5;241m=\u001b[39m\u001b[38;5;28mself\u001b[39m\u001b[38;5;241m.\u001b[39m_n_jobs):\n\u001b[1;32m--> 288\u001b[0m         \u001b[38;5;28;01mreturn\u001b[39;00m [func(\u001b[38;5;241m*\u001b[39margs, \u001b[38;5;241m*\u001b[39m\u001b[38;5;241m*\u001b[39mkwargs)\n\u001b[0;32m    289\u001b[0m                 \u001b[38;5;28;01mfor\u001b[39;00m func, args, kwargs \u001b[38;5;129;01min\u001b[39;00m \u001b[38;5;28mself\u001b[39m\u001b[38;5;241m.\u001b[39mitems]\n",
      "File \u001b[1;32mc:\\Users\\utente\\anaconda3\\Lib\\site-packages\\joblib\\parallel.py:288\u001b[0m, in \u001b[0;36m<listcomp>\u001b[1;34m(.0)\u001b[0m\n\u001b[0;32m    284\u001b[0m \u001b[38;5;28;01mdef\u001b[39;00m \u001b[38;5;21m__call__\u001b[39m(\u001b[38;5;28mself\u001b[39m):\n\u001b[0;32m    285\u001b[0m     \u001b[38;5;66;03m# Set the default nested backend to self._backend but do not set the\u001b[39;00m\n\u001b[0;32m    286\u001b[0m     \u001b[38;5;66;03m# change the default number of processes to -1\u001b[39;00m\n\u001b[0;32m    287\u001b[0m     \u001b[38;5;28;01mwith\u001b[39;00m parallel_backend(\u001b[38;5;28mself\u001b[39m\u001b[38;5;241m.\u001b[39m_backend, n_jobs\u001b[38;5;241m=\u001b[39m\u001b[38;5;28mself\u001b[39m\u001b[38;5;241m.\u001b[39m_n_jobs):\n\u001b[1;32m--> 288\u001b[0m         \u001b[38;5;28;01mreturn\u001b[39;00m [func(\u001b[38;5;241m*\u001b[39margs, \u001b[38;5;241m*\u001b[39m\u001b[38;5;241m*\u001b[39mkwargs)\n\u001b[0;32m    289\u001b[0m                 \u001b[38;5;28;01mfor\u001b[39;00m func, args, kwargs \u001b[38;5;129;01min\u001b[39;00m \u001b[38;5;28mself\u001b[39m\u001b[38;5;241m.\u001b[39mitems]\n",
      "File \u001b[1;32mc:\\Users\\utente\\anaconda3\\Lib\\site-packages\\sklearn\\utils\\parallel.py:123\u001b[0m, in \u001b[0;36m_FuncWrapper.__call__\u001b[1;34m(self, *args, **kwargs)\u001b[0m\n\u001b[0;32m    121\u001b[0m     config \u001b[38;5;241m=\u001b[39m {}\n\u001b[0;32m    122\u001b[0m \u001b[38;5;28;01mwith\u001b[39;00m config_context(\u001b[38;5;241m*\u001b[39m\u001b[38;5;241m*\u001b[39mconfig):\n\u001b[1;32m--> 123\u001b[0m     \u001b[38;5;28;01mreturn\u001b[39;00m \u001b[38;5;28mself\u001b[39m\u001b[38;5;241m.\u001b[39mfunction(\u001b[38;5;241m*\u001b[39margs, \u001b[38;5;241m*\u001b[39m\u001b[38;5;241m*\u001b[39mkwargs)\n",
      "File \u001b[1;32mc:\\Users\\utente\\anaconda3\\Lib\\site-packages\\sklearn\\model_selection\\_validation.py:686\u001b[0m, in \u001b[0;36m_fit_and_score\u001b[1;34m(estimator, X, y, scorer, train, test, verbose, parameters, fit_params, return_train_score, return_parameters, return_n_test_samples, return_times, return_estimator, split_progress, candidate_progress, error_score)\u001b[0m\n\u001b[0;32m    684\u001b[0m         estimator\u001b[38;5;241m.\u001b[39mfit(X_train, \u001b[38;5;241m*\u001b[39m\u001b[38;5;241m*\u001b[39mfit_params)\n\u001b[0;32m    685\u001b[0m     \u001b[38;5;28;01melse\u001b[39;00m:\n\u001b[1;32m--> 686\u001b[0m         estimator\u001b[38;5;241m.\u001b[39mfit(X_train, y_train, \u001b[38;5;241m*\u001b[39m\u001b[38;5;241m*\u001b[39mfit_params)\n\u001b[0;32m    688\u001b[0m \u001b[38;5;28;01mexcept\u001b[39;00m \u001b[38;5;167;01mException\u001b[39;00m:\n\u001b[0;32m    689\u001b[0m     \u001b[38;5;66;03m# Note fit time as time until error\u001b[39;00m\n\u001b[0;32m    690\u001b[0m     fit_time \u001b[38;5;241m=\u001b[39m time\u001b[38;5;241m.\u001b[39mtime() \u001b[38;5;241m-\u001b[39m start_time\n",
      "File \u001b[1;32mc:\\Users\\utente\\anaconda3\\Lib\\site-packages\\xgboost\\core.py:506\u001b[0m, in \u001b[0;36m_deprecate_positional_args.<locals>.inner_f\u001b[1;34m(*args, **kwargs)\u001b[0m\n\u001b[0;32m    504\u001b[0m \u001b[38;5;28;01mfor\u001b[39;00m k, arg \u001b[38;5;129;01min\u001b[39;00m \u001b[38;5;28mzip\u001b[39m(sig\u001b[38;5;241m.\u001b[39mparameters, args):\n\u001b[0;32m    505\u001b[0m     kwargs[k] \u001b[38;5;241m=\u001b[39m arg\n\u001b[1;32m--> 506\u001b[0m \u001b[38;5;28;01mreturn\u001b[39;00m f(\u001b[38;5;241m*\u001b[39m\u001b[38;5;241m*\u001b[39mkwargs)\n",
      "File \u001b[1;32mc:\\Users\\utente\\anaconda3\\Lib\\site-packages\\xgboost\\sklearn.py:789\u001b[0m, in \u001b[0;36mXGBModel.fit\u001b[1;34m(self, X, y, sample_weight, base_margin, eval_set, eval_metric, early_stopping_rounds, verbose, xgb_model, sample_weight_eval_set, base_margin_eval_set, feature_weights, callbacks)\u001b[0m\n\u001b[0;32m    786\u001b[0m     obj \u001b[38;5;241m=\u001b[39m \u001b[38;5;28;01mNone\u001b[39;00m\n\u001b[0;32m    788\u001b[0m model, feval, params \u001b[38;5;241m=\u001b[39m \u001b[38;5;28mself\u001b[39m\u001b[38;5;241m.\u001b[39m_configure_fit(xgb_model, eval_metric, params)\n\u001b[1;32m--> 789\u001b[0m \u001b[38;5;28mself\u001b[39m\u001b[38;5;241m.\u001b[39m_Booster \u001b[38;5;241m=\u001b[39m train(\n\u001b[0;32m    790\u001b[0m     params,\n\u001b[0;32m    791\u001b[0m     train_dmatrix,\n\u001b[0;32m    792\u001b[0m     \u001b[38;5;28mself\u001b[39m\u001b[38;5;241m.\u001b[39mget_num_boosting_rounds(),\n\u001b[0;32m    793\u001b[0m     evals\u001b[38;5;241m=\u001b[39mevals,\n\u001b[0;32m    794\u001b[0m     early_stopping_rounds\u001b[38;5;241m=\u001b[39mearly_stopping_rounds,\n\u001b[0;32m    795\u001b[0m     evals_result\u001b[38;5;241m=\u001b[39mevals_result,\n\u001b[0;32m    796\u001b[0m     obj\u001b[38;5;241m=\u001b[39mobj,\n\u001b[0;32m    797\u001b[0m     feval\u001b[38;5;241m=\u001b[39mfeval,\n\u001b[0;32m    798\u001b[0m     verbose_eval\u001b[38;5;241m=\u001b[39mverbose,\n\u001b[0;32m    799\u001b[0m     xgb_model\u001b[38;5;241m=\u001b[39mmodel,\n\u001b[0;32m    800\u001b[0m     callbacks\u001b[38;5;241m=\u001b[39mcallbacks,\n\u001b[0;32m    801\u001b[0m )\n\u001b[0;32m    803\u001b[0m \u001b[38;5;28mself\u001b[39m\u001b[38;5;241m.\u001b[39m_set_evaluation_result(evals_result)\n\u001b[0;32m    804\u001b[0m \u001b[38;5;28;01mreturn\u001b[39;00m \u001b[38;5;28mself\u001b[39m\n",
      "File \u001b[1;32mc:\\Users\\utente\\anaconda3\\Lib\\site-packages\\xgboost\\training.py:188\u001b[0m, in \u001b[0;36mtrain\u001b[1;34m(params, dtrain, num_boost_round, evals, obj, feval, maximize, early_stopping_rounds, evals_result, verbose_eval, xgb_model, callbacks)\u001b[0m\n\u001b[0;32m    115\u001b[0m \u001b[38;5;28;01mdef\u001b[39;00m \u001b[38;5;21mtrain\u001b[39m(params, dtrain, num_boost_round\u001b[38;5;241m=\u001b[39m\u001b[38;5;241m10\u001b[39m, evals\u001b[38;5;241m=\u001b[39m(), obj\u001b[38;5;241m=\u001b[39m\u001b[38;5;28;01mNone\u001b[39;00m, feval\u001b[38;5;241m=\u001b[39m\u001b[38;5;28;01mNone\u001b[39;00m,\n\u001b[0;32m    116\u001b[0m           maximize\u001b[38;5;241m=\u001b[39m\u001b[38;5;28;01mNone\u001b[39;00m, early_stopping_rounds\u001b[38;5;241m=\u001b[39m\u001b[38;5;28;01mNone\u001b[39;00m, evals_result\u001b[38;5;241m=\u001b[39m\u001b[38;5;28;01mNone\u001b[39;00m,\n\u001b[0;32m    117\u001b[0m           verbose_eval\u001b[38;5;241m=\u001b[39m\u001b[38;5;28;01mTrue\u001b[39;00m, xgb_model\u001b[38;5;241m=\u001b[39m\u001b[38;5;28;01mNone\u001b[39;00m, callbacks\u001b[38;5;241m=\u001b[39m\u001b[38;5;28;01mNone\u001b[39;00m):\n\u001b[0;32m    118\u001b[0m     \u001b[38;5;66;03m# pylint: disable=too-many-statements,too-many-branches, attribute-defined-outside-init\u001b[39;00m\n\u001b[0;32m    119\u001b[0m \u001b[38;5;250m    \u001b[39m\u001b[38;5;124;03m\"\"\"Train a booster with given parameters.\u001b[39;00m\n\u001b[0;32m    120\u001b[0m \n\u001b[0;32m    121\u001b[0m \u001b[38;5;124;03m    Parameters\u001b[39;00m\n\u001b[1;32m   (...)\u001b[0m\n\u001b[0;32m    186\u001b[0m \u001b[38;5;124;03m    Booster : a trained booster model\u001b[39;00m\n\u001b[0;32m    187\u001b[0m \u001b[38;5;124;03m    \"\"\"\u001b[39;00m\n\u001b[1;32m--> 188\u001b[0m     bst \u001b[38;5;241m=\u001b[39m _train_internal(params, dtrain,\n\u001b[0;32m    189\u001b[0m                           num_boost_round\u001b[38;5;241m=\u001b[39mnum_boost_round,\n\u001b[0;32m    190\u001b[0m                           evals\u001b[38;5;241m=\u001b[39mevals,\n\u001b[0;32m    191\u001b[0m                           obj\u001b[38;5;241m=\u001b[39mobj, feval\u001b[38;5;241m=\u001b[39mfeval,\n\u001b[0;32m    192\u001b[0m                           xgb_model\u001b[38;5;241m=\u001b[39mxgb_model, callbacks\u001b[38;5;241m=\u001b[39mcallbacks,\n\u001b[0;32m    193\u001b[0m                           verbose_eval\u001b[38;5;241m=\u001b[39mverbose_eval,\n\u001b[0;32m    194\u001b[0m                           evals_result\u001b[38;5;241m=\u001b[39mevals_result,\n\u001b[0;32m    195\u001b[0m                           maximize\u001b[38;5;241m=\u001b[39mmaximize,\n\u001b[0;32m    196\u001b[0m                           early_stopping_rounds\u001b[38;5;241m=\u001b[39mearly_stopping_rounds)\n\u001b[0;32m    197\u001b[0m     \u001b[38;5;28;01mreturn\u001b[39;00m bst\n",
      "File \u001b[1;32mc:\\Users\\utente\\anaconda3\\Lib\\site-packages\\xgboost\\training.py:81\u001b[0m, in \u001b[0;36m_train_internal\u001b[1;34m(params, dtrain, num_boost_round, evals, obj, feval, xgb_model, callbacks, evals_result, maximize, verbose_eval, early_stopping_rounds)\u001b[0m\n\u001b[0;32m     79\u001b[0m \u001b[38;5;28;01mif\u001b[39;00m callbacks\u001b[38;5;241m.\u001b[39mbefore_iteration(bst, i, dtrain, evals):\n\u001b[0;32m     80\u001b[0m     \u001b[38;5;28;01mbreak\u001b[39;00m\n\u001b[1;32m---> 81\u001b[0m bst\u001b[38;5;241m.\u001b[39mupdate(dtrain, i, obj)\n\u001b[0;32m     82\u001b[0m \u001b[38;5;28;01mif\u001b[39;00m callbacks\u001b[38;5;241m.\u001b[39mafter_iteration(bst, i, dtrain, evals):\n\u001b[0;32m     83\u001b[0m     \u001b[38;5;28;01mbreak\u001b[39;00m\n",
      "File \u001b[1;32mc:\\Users\\utente\\anaconda3\\Lib\\site-packages\\xgboost\\core.py:1680\u001b[0m, in \u001b[0;36mBooster.update\u001b[1;34m(self, dtrain, iteration, fobj)\u001b[0m\n\u001b[0;32m   1677\u001b[0m \u001b[38;5;28mself\u001b[39m\u001b[38;5;241m.\u001b[39m_validate_features(dtrain)\n\u001b[0;32m   1679\u001b[0m \u001b[38;5;28;01mif\u001b[39;00m fobj \u001b[38;5;129;01mis\u001b[39;00m \u001b[38;5;28;01mNone\u001b[39;00m:\n\u001b[1;32m-> 1680\u001b[0m     _check_call(_LIB\u001b[38;5;241m.\u001b[39mXGBoosterUpdateOneIter(\u001b[38;5;28mself\u001b[39m\u001b[38;5;241m.\u001b[39mhandle,\n\u001b[0;32m   1681\u001b[0m                                             ctypes\u001b[38;5;241m.\u001b[39mc_int(iteration),\n\u001b[0;32m   1682\u001b[0m                                             dtrain\u001b[38;5;241m.\u001b[39mhandle))\n\u001b[0;32m   1683\u001b[0m \u001b[38;5;28;01melse\u001b[39;00m:\n\u001b[0;32m   1684\u001b[0m     pred \u001b[38;5;241m=\u001b[39m \u001b[38;5;28mself\u001b[39m\u001b[38;5;241m.\u001b[39mpredict(dtrain, output_margin\u001b[38;5;241m=\u001b[39m\u001b[38;5;28;01mTrue\u001b[39;00m, training\u001b[38;5;241m=\u001b[39m\u001b[38;5;28;01mTrue\u001b[39;00m)\n",
      "\u001b[1;31mKeyboardInterrupt\u001b[0m: "
     ]
    }
   ],
   "source": [
    "# Parameter tuning - with changing local train part\n",
    "\n",
    "RESULT_DIR = \"C:\\\\Users\\\\utente\\\\ufo-prediction\\\\results\"\n",
    "\n",
    "# height_local_train_ESPset = aux_set.iloc[600:, :]\n",
    "# height_local_train_ESPset = height_local_train_ESPset.dropna(subset=[\"height\"])\n",
    "# height_local_train_ESPset.info()\n",
    "# for i in range(5):\n",
    "#     aux_local_train = aux_set.iloc[600*i : 600*(i+1), :]\n",
    "#     print(height_local_train_ESPset.info())\n",
    "    # df_tuning = pd.concat([aux_local_train, height_foreign_train_NLDset])\n",
    "predictor = HeightPredictor(\n",
    "    model=XGBRegressor(**xgb_model_params),\n",
    "    df = height_foreign_train_NLDset,\n",
    "    cross_validation_split=pp.cross_validation,\n",
    "    early_stopping=True,\n",
    "    hyperparameter_tuning_only=True,\n",
    "    hyperparameter_tuning_space=reg_params,\n",
    "    preprocessing_stages=[pp.remove_outliers]\n",
    ")\n",
    "logger.info('Saving hyperparameter optimized model...')\n",
    "timestr = time.strftime('%Y%m%d-%H-%M-%S')\n",
    "path = f'{RESULT_DIR}\\\\model-optimized-{timestr}-{i}.pkl'\n",
    "predictor.save(path, results_only=True)\n",
    "\n"
   ]
  },
  {
   "cell_type": "markdown",
   "metadata": {},
   "source": [
    "### Regression"
   ]
  },
  {
   "cell_type": "code",
   "execution_count": 5,
   "metadata": {},
   "outputs": [
    {
     "name": "stderr",
     "output_type": "stream",
     "text": [
      "2024-02-22 13:39:05,195 | INFO : Dataset length: 20649\n",
      "2024-02-22 13:39:05,227 | INFO : Dataset allocated memory: 21 MB\n",
      "2024-02-22 13:39:05,230 | INFO : No abort signal received. Continuing... To abort please create C:\\Users\\utente\\ufo-prediction\\metadata\\local-422343d0.abort.\n",
      "2024-02-22 13:39:05,230 | INFO : Dataset standard deviation: 2.53350739084524\n",
      "2024-02-22 13:39:05,230 | INFO : Dataset mean age: 5.454557444433144\n",
      "2024-02-22 13:39:05,230 | INFO : Training dataset length: 20649\n",
      "2024-02-22 13:39:05,243 | INFO : Test dataset length: 580\n",
      "2024-02-22 13:39:05,626 | INFO : Test dataset standard deviation after preprocessing: 2.6851100144730675\n",
      "2024-02-22 13:39:05,631 | INFO : Test dataset mean age after preprocessing: 3.8615664845173043\n",
      "2024-02-22 13:39:05,634 | INFO : Training dataset length after preprocessing: 20402\n",
      "2024-02-22 13:39:05,637 | INFO : Test dataset length after preprocessing: 549\n",
      "pandas.Int64Index is deprecated and will be removed from pandas in a future version. Use pandas.Index with the appropriate dtype instead.\n",
      "pandas.Int64Index is deprecated and will be removed from pandas in a future version. Use pandas.Index with the appropriate dtype instead.\n",
      "pandas.Int64Index is deprecated and will be removed from pandas in a future version. Use pandas.Index with the appropriate dtype instead.\n"
     ]
    },
    {
     "name": "stdout",
     "output_type": "stream",
     "text": [
      "scores for testing at iteration 0\n",
      "MAE: 1.13 \n",
      "RMSE: 1.89 \n",
      "R2: 0.5059\n"
     ]
    },
    {
     "name": "stderr",
     "output_type": "stream",
     "text": [
      "2024-02-22 13:40:23,872 | INFO : Dataset length: 20642\n",
      "2024-02-22 13:40:23,911 | INFO : Dataset allocated memory: 21 MB\n",
      "2024-02-22 13:40:23,911 | INFO : No abort signal received. Continuing... To abort please create C:\\Users\\utente\\ufo-prediction\\metadata\\local-e61cdf43.abort.\n",
      "2024-02-22 13:40:23,911 | INFO : Dataset standard deviation: 2.52843112598356\n",
      "2024-02-22 13:40:23,922 | INFO : Dataset mean age: 5.453984917648484\n",
      "2024-02-22 13:40:23,925 | INFO : Training dataset length: 20642\n",
      "2024-02-22 13:40:23,928 | INFO : Test dataset length: 580\n",
      "2024-02-22 13:40:24,308 | INFO : Test dataset standard deviation after preprocessing: 2.6851100144730675\n",
      "2024-02-22 13:40:24,308 | INFO : Test dataset mean age after preprocessing: 3.8615664845173043\n",
      "2024-02-22 13:40:24,308 | INFO : Training dataset length after preprocessing: 20400\n",
      "2024-02-22 13:40:24,321 | INFO : Test dataset length after preprocessing: 549\n",
      "pandas.Int64Index is deprecated and will be removed from pandas in a future version. Use pandas.Index with the appropriate dtype instead.\n",
      "pandas.Int64Index is deprecated and will be removed from pandas in a future version. Use pandas.Index with the appropriate dtype instead.\n",
      "pandas.Int64Index is deprecated and will be removed from pandas in a future version. Use pandas.Index with the appropriate dtype instead.\n"
     ]
    },
    {
     "name": "stdout",
     "output_type": "stream",
     "text": [
      "scores for testing at iteration 1\n",
      "MAE: 1.11 \n",
      "RMSE: 1.91 \n",
      "R2: 0.4906\n"
     ]
    },
    {
     "name": "stderr",
     "output_type": "stream",
     "text": [
      "2024-02-22 13:42:14,385 | INFO : Dataset length: 20648\n",
      "2024-02-22 13:42:14,413 | INFO : Dataset allocated memory: 21 MB\n",
      "2024-02-22 13:42:14,415 | INFO : No abort signal received. Continuing... To abort please create C:\\Users\\utente\\ufo-prediction\\metadata\\local-d6d6d314.abort.\n",
      "2024-02-22 13:42:14,418 | INFO : Dataset standard deviation: 2.539633797148305\n",
      "2024-02-22 13:42:14,423 | INFO : Dataset mean age: 5.458332849191205\n",
      "2024-02-22 13:42:14,425 | INFO : Training dataset length: 20648\n",
      "2024-02-22 13:42:14,428 | INFO : Test dataset length: 580\n",
      "2024-02-22 13:42:14,748 | INFO : Test dataset standard deviation after preprocessing: 2.6851100144730675\n",
      "2024-02-22 13:42:14,751 | INFO : Test dataset mean age after preprocessing: 3.8615664845173043\n",
      "2024-02-22 13:42:14,754 | INFO : Training dataset length after preprocessing: 20415\n",
      "2024-02-22 13:42:14,757 | INFO : Test dataset length after preprocessing: 549\n",
      "pandas.Int64Index is deprecated and will be removed from pandas in a future version. Use pandas.Index with the appropriate dtype instead.\n",
      "pandas.Int64Index is deprecated and will be removed from pandas in a future version. Use pandas.Index with the appropriate dtype instead.\n",
      "pandas.Int64Index is deprecated and will be removed from pandas in a future version. Use pandas.Index with the appropriate dtype instead.\n"
     ]
    },
    {
     "name": "stdout",
     "output_type": "stream",
     "text": [
      "scores for testing at iteration 2\n",
      "MAE: 1.12 \n",
      "RMSE: 1.85 \n",
      "R2: 0.5237\n"
     ]
    },
    {
     "name": "stderr",
     "output_type": "stream",
     "text": [
      "2024-02-22 13:42:54,773 | INFO : Dataset length: 20648\n",
      "2024-02-22 13:42:54,797 | INFO : Dataset allocated memory: 21 MB\n",
      "2024-02-22 13:42:54,800 | INFO : No abort signal received. Continuing... To abort please create C:\\Users\\utente\\ufo-prediction\\metadata\\local-67be6170.abort.\n",
      "2024-02-22 13:42:54,803 | INFO : Dataset standard deviation: 2.5226208695772776\n",
      "2024-02-22 13:42:54,810 | INFO : Dataset mean age: 5.452521148300077\n",
      "2024-02-22 13:42:54,812 | INFO : Training dataset length: 20648\n",
      "2024-02-22 13:42:54,814 | INFO : Test dataset length: 580\n",
      "2024-02-22 13:42:55,171 | INFO : Test dataset standard deviation after preprocessing: 2.6851100144730675\n",
      "2024-02-22 13:42:55,173 | INFO : Test dataset mean age after preprocessing: 3.8615664845173043\n",
      "2024-02-22 13:42:55,175 | INFO : Training dataset length after preprocessing: 20406\n",
      "2024-02-22 13:42:55,178 | INFO : Test dataset length after preprocessing: 549\n",
      "pandas.Int64Index is deprecated and will be removed from pandas in a future version. Use pandas.Index with the appropriate dtype instead.\n",
      "pandas.Int64Index is deprecated and will be removed from pandas in a future version. Use pandas.Index with the appropriate dtype instead.\n",
      "pandas.Int64Index is deprecated and will be removed from pandas in a future version. Use pandas.Index with the appropriate dtype instead.\n"
     ]
    },
    {
     "name": "stdout",
     "output_type": "stream",
     "text": [
      "scores for testing at iteration 3\n",
      "MAE: 1.15 \n",
      "RMSE: 2.03 \n",
      "R2: 0.4248\n"
     ]
    },
    {
     "name": "stderr",
     "output_type": "stream",
     "text": [
      "2024-02-22 13:43:29,065 | INFO : Dataset length: 20648\n",
      "2024-02-22 13:43:29,092 | INFO : Dataset allocated memory: 21 MB\n",
      "2024-02-22 13:43:29,095 | INFO : No abort signal received. Continuing... To abort please create C:\\Users\\utente\\ufo-prediction\\metadata\\local-5e0901a9.abort.\n",
      "2024-02-22 13:43:29,098 | INFO : Dataset standard deviation: 2.5346073644188567\n",
      "2024-02-22 13:43:29,103 | INFO : Dataset mean age: 5.451431454382991\n",
      "2024-02-22 13:43:29,105 | INFO : Training dataset length: 20648\n",
      "2024-02-22 13:43:29,107 | INFO : Test dataset length: 580\n",
      "2024-02-22 13:43:29,437 | INFO : Test dataset standard deviation after preprocessing: 2.6851100144730675\n",
      "2024-02-22 13:43:29,439 | INFO : Test dataset mean age after preprocessing: 3.8615664845173043\n",
      "2024-02-22 13:43:29,442 | INFO : Training dataset length after preprocessing: 20402\n",
      "2024-02-22 13:43:29,445 | INFO : Test dataset length after preprocessing: 549\n",
      "pandas.Int64Index is deprecated and will be removed from pandas in a future version. Use pandas.Index with the appropriate dtype instead.\n",
      "pandas.Int64Index is deprecated and will be removed from pandas in a future version. Use pandas.Index with the appropriate dtype instead.\n"
     ]
    },
    {
     "name": "stdout",
     "output_type": "stream",
     "text": [
      "scores for testing at iteration 4\n",
      "MAE: 1.11 \n",
      "RMSE: 1.97 \n",
      "R2: 0.4605\n"
     ]
    },
    {
     "name": "stderr",
     "output_type": "stream",
     "text": [
      "pandas.Int64Index is deprecated and will be removed from pandas in a future version. Use pandas.Index with the appropriate dtype instead.\n"
     ]
    }
   ],
   "source": [
    "for i in range(5):\n",
    "    height_local_train_ESPset = aux_set.iloc[600+660*i:600+660*(i+1), :]\n",
    "    height_local_train_ESPset = height_local_train_ESPset.dropna(subset=[\"height\"])\n",
    "\n",
    "    df_train = pd.concat([height_local_train_ESPset, height_foreign_train_NLDset])\n",
    "    \n",
    "    predictor = HeightPredictor(\n",
    "        model=XGBRegressor(**xgb_model_params),\n",
    "        df = df_train,\n",
    "        # test_training_split=pp.split_80_20,\n",
    "        test_set = height_test_ESPset,\n",
    "        early_stopping=True,\n",
    "        hyperparameters=xgb_hyperparams,\n",
    "        preprocessing_stages=[pp.remove_outliers]\n",
    "        \n",
    "    )\n",
    "    print(\"scores for testing at iteration \" + str(i)) \n",
    "    predictor.evaluate()\n",
    "\n",
    "   \n",
    "\n",
    "#xgboost\n",
    "# 1.13 1.11 1.12 1.15 1.11 - average mae 1.12\n",
    "#transfer\n",
    "# 0.51 0.50 0.52 0.50 0.51 - average mae 0.51\n",
    "#direct\n",
    "# 0.43 0.42 0.45 0.61 0.45 0.43 0.46 0.44 0.46 - average mae 0.46 \n",
    "\n"
   ]
  },
  {
   "cell_type": "code",
   "execution_count": 7,
   "metadata": {},
   "outputs": [
    {
     "name": "stderr",
     "output_type": "stream",
     "text": [
      "2024-03-17 21:58:13,778 | INFO : Dataset length: 649\n",
      "2024-03-17 21:58:13,792 | INFO : Dataset allocated memory: 0 MB\n",
      "2024-03-17 21:58:13,803 | INFO : No abort signal received. Continuing... To abort please create C:\\Users\\utente\\ufo-prediction\\metadata\\local-87c36ab7.abort.\n",
      "2024-03-17 21:58:13,806 | INFO : Dataset standard deviation: 2.554802707267641\n"
     ]
    },
    {
     "name": "stderr",
     "output_type": "stream",
     "text": [
      "2024-03-17 21:58:13,809 | INFO : Dataset mean age: 3.8713405238828966\n",
      "2024-03-17 21:58:13,809 | INFO : Training dataset length: 649\n",
      "2024-03-17 21:58:13,815 | INFO : Test dataset length: 580\n",
      "2024-03-17 21:58:13,850 | INFO : Test dataset standard deviation after preprocessing: 2.6851100144730675\n",
      "2024-03-17 21:58:13,855 | INFO : Test dataset mean age after preprocessing: 3.8615664845173043\n",
      "2024-03-17 21:58:13,858 | INFO : Training dataset length after preprocessing: 616\n",
      "2024-03-17 21:58:13,861 | INFO : Test dataset length after preprocessing: 549\n",
      "pandas.Int64Index is deprecated and will be removed from pandas in a future version. Use pandas.Index with the appropriate dtype instead.\n",
      "pandas.Int64Index is deprecated and will be removed from pandas in a future version. Use pandas.Index with the appropriate dtype instead.\n",
      "pandas.Int64Index is deprecated and will be removed from pandas in a future version. Use pandas.Index with the appropriate dtype instead.\n"
     ]
    },
    {
     "name": "stdout",
     "output_type": "stream",
     "text": [
      "MAE: 1.05 \n",
      "RMSE: 1.86 \n",
      "R2: 0.5172\n"
     ]
    },
    {
     "name": "stderr",
     "output_type": "stream",
     "text": [
      "2024-03-17 21:58:25,525 | INFO : (549, 1, 549, 1)\n"
     ]
    },
    {
     "name": "stdout",
     "output_type": "stream",
     "text": [
      "here\n"
     ]
    },
    {
     "data": {
      "image/png": "[encoded data removed]",
      "text/plain": [
       "<Figure size 1400x600 with 2 Axes>"
      ]
     },
     "metadata": {},
     "output_type": "display_data"
    },
    {
     "data": {
      "image/png": "[encoded data removed]",
      "text/plain": [
       "<Figure size 1000x1000 with 3 Axes>"
      ]
     },
     "metadata": {},
     "output_type": "display_data"
    }
   ],
   "source": [
    "df_train = pd.concat([height_local_train_ESPset, height_foreign_train_NLDset])\n",
    "predictor = HeightPredictor(\n",
    "        model=XGBRegressor(**xgb_model_params),\n",
    "        df = df_train,\n",
    "        # test_training_split=pp.split_80_20,\n",
    "        test_set = height_test_ESPset,\n",
    "        early_stopping=True,\n",
    "        hyperparameters=xgb_hyperparams,\n",
    "        preprocessing_stages=[pp.remove_outliers]\n",
    "        \n",
    "    )\n",
    "predictor.evaluate()\n"
   ]
  },
  {
   "cell_type": "code",
   "execution_count": 82,
   "metadata": {},
   "outputs": [
    {
     "name": "stderr",
     "output_type": "stream",
     "text": [
      "pandas.Int64Index is deprecated and will be removed from pandas in a future version. Use pandas.Index with the appropriate dtype instead.\n"
     ]
    },
    {
     "data": {
      "text/plain": [
       "3766  34013864    2.105864\n",
       "      33995263    0.309085\n",
       "      34006035    1.787661\n",
       "5000  43624073    0.716485\n",
       "3766  34006078    0.478494\n",
       "Name: height, dtype: float64"
      ]
     },
     "execution_count": 82,
     "metadata": {},
     "output_type": "execute_result"
    }
   ],
   "source": [
    "import math\n",
    "\n",
    "height_test_ESPset = aux_set.iloc[:600, :]\n",
    "df_final_test = copy.deepcopy(height_test_ESPset)\n",
    "feature_cols = list(df_final_test.columns.intersection(dataset.FEATURES))\n",
    "\n",
    "y_final_test = height_test_ESPset['height']\n",
    "X_final_test = df_final_test[feature_cols]\n",
    "\n",
    "\n",
    "y_predict_test = pd.DataFrame(\n",
    "        {'height': predictor.model.predict(X_final_test)}, index=X_final_test.index)\n",
    "# print(\"scores for final testing at iteration \" + str(i))        \n",
    "# print(metrics.mean_absolute_error(y_final_test, y_predict_test))\n",
    "# print(np.sqrt(metrics.mean_squared_error(y_final_test, y_predict_test)))\n",
    "# print(metrics.r2_score(y_final_test, y_predict_test) )\n",
    "\n",
    "y_error = abs(y_predict_test['height']-y_final_test)\n",
    "\n",
    "# y_error = y_error.apply(lambda x: np.log10(x))\n",
    "\n",
    "y_error_df = pd.DataFrame(\n",
    "        {'height': y_error}, index=X_final_test.index)\n",
    "\n",
    "\n",
    "# \n",
    "# height_test_ESPset = height_test_ESPset.dropna(subset=[\"height\"])\n",
    "# clipped_gpd=height_test_ESPset.clip([3.4e6, 1.85e6, 3.414e6, 1.91e6])\n",
    "# clipped_gpd = clipped_gpd.to_crs(\"EPSG:4326\")\n",
    "# clipped_gpd.plot('height', cmap=\"Set1\", markersize = 0.9)\n",
    "\n",
    "y_error.head()"
   ]
  },
  {
   "cell_type": "code",
   "execution_count": 83,
   "metadata": {},
   "outputs": [
    {
     "name": "stdout",
     "output_type": "stream",
     "text": [
      "<class 'geopandas.geodataframe.GeoDataFrame'>\n",
      "MultiIndex: 600 entries, (3766, 34013864) to (3766, 34007862)\n",
      "Columns: 137 entries, source_file to height_absolute\n",
      "dtypes: float64(122), geometry(1), int64(2), object(12)\n",
      "memory usage: 326.4+ MB\n"
     ]
    },
    {
     "data": {
      "text/plain": [
       "3766  34013864    POINT (3412435.143 1901599.959)\n",
       "      33995263    POINT (3411117.833 1903098.035)\n",
       "      34006035    POINT (3409398.510 1900694.184)\n",
       "5000  43624073    POINT (3630795.607 2083200.023)\n",
       "3766  34006078    POINT (3409365.002 1900828.001)\n",
       "                               ...               \n",
       "      34007829    POINT (3410188.467 1903847.312)\n",
       "5000  43628143    POINT (3632044.249 2080456.564)\n",
       "3766  33999018    POINT (3407725.261 1902440.238)\n",
       "      34012658    POINT (3412174.045 1903117.783)\n",
       "      34007862    POINT (3409624.969 1900186.872)\n",
       "Name: geometry, Length: 600, dtype: geometry"
      ]
     },
     "execution_count": 83,
     "metadata": {},
     "output_type": "execute_result"
    }
   ],
   "source": [
    "df_toplot = height_test_ESPset.join(y_error_df, lsuffix='_caller', rsuffix='_absolute')\n",
    "df_toplot.info()\n",
    "df_toplot['geometry']\n"
   ]
  },
  {
   "cell_type": "code",
   "execution_count": 95,
   "metadata": {},
   "outputs": [
    {
     "data": {
      "text/plain": [
       "<Axes: >"
      ]
     },
     "execution_count": 95,
     "metadata": {},
     "output_type": "execute_result"
    },
    {
     "data": {
      "image/png": "[encoded data removed]",
      "text/plain": [
       "<Figure size 640x480 with 2 Axes>"
      ]
     },
     "metadata": {},
     "output_type": "display_data"
    }
   ],
   "source": [
    "import matplotlib\n",
    "clipped_gpd=df_toplot.clip([3.4e6, 1.85e6, 3.414e6, 1.91e6])\n",
    "clipped_gpd = clipped_gpd.to_crs(\"EPSG:4326\")\n",
    "clipped_gpd.plot('height_absolute', cmap=\"RdYlGn_r\", markersize = 10, legend = True, norm=matplotlib.colors.LogNorm(vmin=clipped_gpd.height_absolute.min(), vmax=clipped_gpd.height_absolute.max()))"
   ]
  },
  {
   "cell_type": "code",
   "execution_count": 39,
   "metadata": {},
   "outputs": [
    {
     "name": "stdout",
     "output_type": "stream",
     "text": [
      "1.1388212320105784\n",
      "1.9492806000367895\n",
      "0.4743145350660677\n"
     ]
    },
    {
     "name": "stderr",
     "output_type": "stream",
     "text": [
      "pandas.Int64Index is deprecated and will be removed from pandas in a future version. Use pandas.Index with the appropriate dtype instead.\n"
     ]
    }
   ],
   "source": []
  },
  {
   "attachments": {},
   "cell_type": "markdown",
   "metadata": {},
   "source": [
    "### Classification"
   ]
  },
  {
   "cell_type": "code",
   "execution_count": 9,
   "metadata": {},
   "outputs": [
    {
     "name": "stderr",
     "output_type": "stream",
     "text": [
      "pandas.Int64Index is deprecated and will be removed from pandas in a future version. Use pandas.Index with the appropriate dtype instead.\n",
      "pandas.Int64Index is deprecated and will be removed from pandas in a future version. Use pandas.Index with the appropriate dtype instead.\n",
      "pandas.Int64Index is deprecated and will be removed from pandas in a future version. Use pandas.Index with the appropriate dtype instead.\n"
     ]
    },
    {
     "ename": "KeyboardInterrupt",
     "evalue": "",
     "output_type": "error",
     "traceback": [
      "\u001b[1;31m---------------------------------------------------------------------------\u001b[0m",
      "\u001b[1;31mKeyboardInterrupt\u001b[0m                         Traceback (most recent call last)",
      "Cell \u001b[1;32mIn[9], line 4\u001b[0m\n\u001b[0;32m      1\u001b[0m tabula_nl_bins \u001b[38;5;241m=\u001b[39m [\u001b[38;5;241m1900\u001b[39m, \u001b[38;5;241m1965\u001b[39m, \u001b[38;5;241m1975\u001b[39m, \u001b[38;5;241m1992\u001b[39m, \u001b[38;5;241m2006\u001b[39m, \u001b[38;5;241m2015\u001b[39m, \u001b[38;5;241m2022\u001b[39m]\n\u001b[0;32m      2\u001b[0m equally_sized_bins \u001b[38;5;241m=\u001b[39m (\u001b[38;5;241m1900\u001b[39m, \u001b[38;5;241m2020\u001b[39m, \u001b[38;5;241m10\u001b[39m)\n\u001b[1;32m----> 4\u001b[0m classifier \u001b[38;5;241m=\u001b[39m AgeClassifier(\n\u001b[0;32m      5\u001b[0m     model\u001b[38;5;241m=\u001b[39mXGBClassifier(\u001b[38;5;241m*\u001b[39m\u001b[38;5;241m*\u001b[39mxgb_model_params),\n\u001b[0;32m      6\u001b[0m     df\u001b[38;5;241m=\u001b[39mdf,\n\u001b[0;32m      7\u001b[0m     test_training_split\u001b[38;5;241m=\u001b[39mpp\u001b[38;5;241m.\u001b[39msplit_80_20,\n\u001b[0;32m      8\u001b[0m     \u001b[38;5;66;03m# cross_validation_split=pp.cross_validation,\u001b[39;00m\n\u001b[0;32m      9\u001b[0m     preprocessing_stages\u001b[38;5;241m=\u001b[39m[pp\u001b[38;5;241m.\u001b[39mremove_outliers],\n\u001b[0;32m     10\u001b[0m     hyperparameters\u001b[38;5;241m=\u001b[39mxgb_hyperparams,\n\u001b[0;32m     11\u001b[0m     mitigate_class_imbalance\u001b[38;5;241m=\u001b[39m\u001b[38;5;28;01mTrue\u001b[39;00m,\n\u001b[0;32m     12\u001b[0m     bin_config\u001b[38;5;241m=\u001b[39mequally_sized_bins,\n\u001b[0;32m     13\u001b[0m     \u001b[38;5;66;03m#bins=tabula_nl_bins,\u001b[39;00m\n\u001b[0;32m     14\u001b[0m )\n\u001b[0;32m     15\u001b[0m classifier\u001b[38;5;241m.\u001b[39mevaluate()\n",
      "File \u001b[1;32mc:\\Users\\utente\\ufo-prediction\\demo\\..\\src\\prediction_age.py:137\u001b[0m, in \u001b[0;36mAgeClassifier.__init__\u001b[1;34m(self, bins, bin_config, resampling, *args, **kwargs)\u001b[0m\n\u001b[0;32m    134\u001b[0m \u001b[38;5;28;01mif\u001b[39;00m \u001b[38;5;28mself\u001b[39m\u001b[38;5;241m.\u001b[39mresampling:\n\u001b[0;32m    135\u001b[0m     \u001b[38;5;28mself\u001b[39m\u001b[38;5;241m.\u001b[39mpreprocessing_stages\u001b[38;5;241m.\u001b[39mappend(\u001b[38;5;28mself\u001b[39m\u001b[38;5;241m.\u001b[39mresampling)\n\u001b[1;32m--> 137\u001b[0m \u001b[38;5;28mself\u001b[39m\u001b[38;5;241m.\u001b[39m_e2e_training()\n",
      "File \u001b[1;32mc:\\Users\\utente\\ufo-prediction\\demo\\..\\src\\prediction.py:97\u001b[0m, in \u001b[0;36mPredictor._e2e_training\u001b[1;34m(self)\u001b[0m\n\u001b[0;32m     95\u001b[0m \u001b[38;5;28mself\u001b[39m\u001b[38;5;241m.\u001b[39m_preprocess()\n\u001b[0;32m     96\u001b[0m \u001b[38;5;28mself\u001b[39m\u001b[38;5;241m.\u001b[39m_post_preprocess_analysis_hook()\n\u001b[1;32m---> 97\u001b[0m \u001b[38;5;28mself\u001b[39m\u001b[38;5;241m.\u001b[39m_train()\n\u001b[0;32m     98\u001b[0m \u001b[38;5;28mself\u001b[39m\u001b[38;5;241m.\u001b[39m_predict()\n",
      "File \u001b[1;32mc:\\Users\\utente\\ufo-prediction\\demo\\..\\src\\prediction.py:207\u001b[0m, in \u001b[0;36mPredictor._train\u001b[1;34m(self)\u001b[0m\n\u001b[0;32m    204\u001b[0m     model_params[\u001b[38;5;124m'\u001b[39m\u001b[38;5;124mverbose\u001b[39m\u001b[38;5;124m'\u001b[39m] \u001b[38;5;241m=\u001b[39m \u001b[38;5;241m2\u001b[39m \u001b[38;5;28;01mif\u001b[39;00m utils\u001b[38;5;241m.\u001b[39mverbose() \u001b[38;5;28;01melse\u001b[39;00m \u001b[38;5;241m0\u001b[39m\n\u001b[0;32m    206\u001b[0m \u001b[38;5;28mself\u001b[39m\u001b[38;5;241m.\u001b[39mmodel\u001b[38;5;241m.\u001b[39mset_params(\u001b[38;5;241m*\u001b[39m\u001b[38;5;241m*\u001b[39mmodel_params)\n\u001b[1;32m--> 207\u001b[0m \u001b[38;5;28mself\u001b[39m\u001b[38;5;241m.\u001b[39mmodel\u001b[38;5;241m.\u001b[39mfit(\u001b[38;5;241m*\u001b[39m\u001b[38;5;241m*\u001b[39mfit_params)\n\u001b[0;32m    209\u001b[0m \u001b[38;5;28;01mif\u001b[39;00m \u001b[38;5;28mself\u001b[39m\u001b[38;5;241m.\u001b[39m_xgboost_model():\n\u001b[0;32m    210\u001b[0m     \u001b[38;5;28mself\u001b[39m\u001b[38;5;241m.\u001b[39mevals_result \u001b[38;5;241m=\u001b[39m \u001b[38;5;28mself\u001b[39m\u001b[38;5;241m.\u001b[39mmodel\u001b[38;5;241m.\u001b[39mevals_result()\n",
      "File \u001b[1;32mc:\\Users\\utente\\anaconda3\\Lib\\site-packages\\xgboost\\core.py:506\u001b[0m, in \u001b[0;36m_deprecate_positional_args.<locals>.inner_f\u001b[1;34m(*args, **kwargs)\u001b[0m\n\u001b[0;32m    504\u001b[0m \u001b[38;5;28;01mfor\u001b[39;00m k, arg \u001b[38;5;129;01min\u001b[39;00m \u001b[38;5;28mzip\u001b[39m(sig\u001b[38;5;241m.\u001b[39mparameters, args):\n\u001b[0;32m    505\u001b[0m     kwargs[k] \u001b[38;5;241m=\u001b[39m arg\n\u001b[1;32m--> 506\u001b[0m \u001b[38;5;28;01mreturn\u001b[39;00m f(\u001b[38;5;241m*\u001b[39m\u001b[38;5;241m*\u001b[39mkwargs)\n",
      "File \u001b[1;32mc:\\Users\\utente\\anaconda3\\Lib\\site-packages\\xgboost\\sklearn.py:1250\u001b[0m, in \u001b[0;36mXGBClassifier.fit\u001b[1;34m(self, X, y, sample_weight, base_margin, eval_set, eval_metric, early_stopping_rounds, verbose, xgb_model, sample_weight_eval_set, base_margin_eval_set, feature_weights, callbacks)\u001b[0m\n\u001b[0;32m   1230\u001b[0m model, feval, params \u001b[38;5;241m=\u001b[39m \u001b[38;5;28mself\u001b[39m\u001b[38;5;241m.\u001b[39m_configure_fit(xgb_model, eval_metric, params)\n\u001b[0;32m   1231\u001b[0m train_dmatrix, evals \u001b[38;5;241m=\u001b[39m _wrap_evaluation_matrices(\n\u001b[0;32m   1232\u001b[0m     missing\u001b[38;5;241m=\u001b[39m\u001b[38;5;28mself\u001b[39m\u001b[38;5;241m.\u001b[39mmissing,\n\u001b[0;32m   1233\u001b[0m     X\u001b[38;5;241m=\u001b[39mX,\n\u001b[1;32m   (...)\u001b[0m\n\u001b[0;32m   1247\u001b[0m     label_transform\u001b[38;5;241m=\u001b[39mlabel_transform,\n\u001b[0;32m   1248\u001b[0m )\n\u001b[1;32m-> 1250\u001b[0m \u001b[38;5;28mself\u001b[39m\u001b[38;5;241m.\u001b[39m_Booster \u001b[38;5;241m=\u001b[39m train(\n\u001b[0;32m   1251\u001b[0m     params,\n\u001b[0;32m   1252\u001b[0m     train_dmatrix,\n\u001b[0;32m   1253\u001b[0m     \u001b[38;5;28mself\u001b[39m\u001b[38;5;241m.\u001b[39mget_num_boosting_rounds(),\n\u001b[0;32m   1254\u001b[0m     evals\u001b[38;5;241m=\u001b[39mevals,\n\u001b[0;32m   1255\u001b[0m     early_stopping_rounds\u001b[38;5;241m=\u001b[39mearly_stopping_rounds,\n\u001b[0;32m   1256\u001b[0m     evals_result\u001b[38;5;241m=\u001b[39mevals_result,\n\u001b[0;32m   1257\u001b[0m     obj\u001b[38;5;241m=\u001b[39mobj,\n\u001b[0;32m   1258\u001b[0m     feval\u001b[38;5;241m=\u001b[39mfeval,\n\u001b[0;32m   1259\u001b[0m     verbose_eval\u001b[38;5;241m=\u001b[39mverbose,\n\u001b[0;32m   1260\u001b[0m     xgb_model\u001b[38;5;241m=\u001b[39mmodel,\n\u001b[0;32m   1261\u001b[0m     callbacks\u001b[38;5;241m=\u001b[39mcallbacks,\n\u001b[0;32m   1262\u001b[0m )\n\u001b[0;32m   1264\u001b[0m \u001b[38;5;28;01mif\u001b[39;00m \u001b[38;5;129;01mnot\u001b[39;00m \u001b[38;5;28mcallable\u001b[39m(\u001b[38;5;28mself\u001b[39m\u001b[38;5;241m.\u001b[39mobjective):\n\u001b[0;32m   1265\u001b[0m     \u001b[38;5;28mself\u001b[39m\u001b[38;5;241m.\u001b[39mobjective \u001b[38;5;241m=\u001b[39m params[\u001b[38;5;124m\"\u001b[39m\u001b[38;5;124mobjective\u001b[39m\u001b[38;5;124m\"\u001b[39m]\n",
      "File \u001b[1;32mc:\\Users\\utente\\anaconda3\\Lib\\site-packages\\xgboost\\training.py:188\u001b[0m, in \u001b[0;36mtrain\u001b[1;34m(params, dtrain, num_boost_round, evals, obj, feval, maximize, early_stopping_rounds, evals_result, verbose_eval, xgb_model, callbacks)\u001b[0m\n\u001b[0;32m    115\u001b[0m \u001b[38;5;28;01mdef\u001b[39;00m \u001b[38;5;21mtrain\u001b[39m(params, dtrain, num_boost_round\u001b[38;5;241m=\u001b[39m\u001b[38;5;241m10\u001b[39m, evals\u001b[38;5;241m=\u001b[39m(), obj\u001b[38;5;241m=\u001b[39m\u001b[38;5;28;01mNone\u001b[39;00m, feval\u001b[38;5;241m=\u001b[39m\u001b[38;5;28;01mNone\u001b[39;00m,\n\u001b[0;32m    116\u001b[0m           maximize\u001b[38;5;241m=\u001b[39m\u001b[38;5;28;01mNone\u001b[39;00m, early_stopping_rounds\u001b[38;5;241m=\u001b[39m\u001b[38;5;28;01mNone\u001b[39;00m, evals_result\u001b[38;5;241m=\u001b[39m\u001b[38;5;28;01mNone\u001b[39;00m,\n\u001b[0;32m    117\u001b[0m           verbose_eval\u001b[38;5;241m=\u001b[39m\u001b[38;5;28;01mTrue\u001b[39;00m, xgb_model\u001b[38;5;241m=\u001b[39m\u001b[38;5;28;01mNone\u001b[39;00m, callbacks\u001b[38;5;241m=\u001b[39m\u001b[38;5;28;01mNone\u001b[39;00m):\n\u001b[0;32m    118\u001b[0m     \u001b[38;5;66;03m# pylint: disable=too-many-statements,too-many-branches, attribute-defined-outside-init\u001b[39;00m\n\u001b[0;32m    119\u001b[0m \u001b[38;5;250m    \u001b[39m\u001b[38;5;124;03m\"\"\"Train a booster with given parameters.\u001b[39;00m\n\u001b[0;32m    120\u001b[0m \n\u001b[0;32m    121\u001b[0m \u001b[38;5;124;03m    Parameters\u001b[39;00m\n\u001b[1;32m   (...)\u001b[0m\n\u001b[0;32m    186\u001b[0m \u001b[38;5;124;03m    Booster : a trained booster model\u001b[39;00m\n\u001b[0;32m    187\u001b[0m \u001b[38;5;124;03m    \"\"\"\u001b[39;00m\n\u001b[1;32m--> 188\u001b[0m     bst \u001b[38;5;241m=\u001b[39m _train_internal(params, dtrain,\n\u001b[0;32m    189\u001b[0m                           num_boost_round\u001b[38;5;241m=\u001b[39mnum_boost_round,\n\u001b[0;32m    190\u001b[0m                           evals\u001b[38;5;241m=\u001b[39mevals,\n\u001b[0;32m    191\u001b[0m                           obj\u001b[38;5;241m=\u001b[39mobj, feval\u001b[38;5;241m=\u001b[39mfeval,\n\u001b[0;32m    192\u001b[0m                           xgb_model\u001b[38;5;241m=\u001b[39mxgb_model, callbacks\u001b[38;5;241m=\u001b[39mcallbacks,\n\u001b[0;32m    193\u001b[0m                           verbose_eval\u001b[38;5;241m=\u001b[39mverbose_eval,\n\u001b[0;32m    194\u001b[0m                           evals_result\u001b[38;5;241m=\u001b[39mevals_result,\n\u001b[0;32m    195\u001b[0m                           maximize\u001b[38;5;241m=\u001b[39mmaximize,\n\u001b[0;32m    196\u001b[0m                           early_stopping_rounds\u001b[38;5;241m=\u001b[39mearly_stopping_rounds)\n\u001b[0;32m    197\u001b[0m     \u001b[38;5;28;01mreturn\u001b[39;00m bst\n",
      "File \u001b[1;32mc:\\Users\\utente\\anaconda3\\Lib\\site-packages\\xgboost\\training.py:81\u001b[0m, in \u001b[0;36m_train_internal\u001b[1;34m(params, dtrain, num_boost_round, evals, obj, feval, xgb_model, callbacks, evals_result, maximize, verbose_eval, early_stopping_rounds)\u001b[0m\n\u001b[0;32m     79\u001b[0m \u001b[38;5;28;01mif\u001b[39;00m callbacks\u001b[38;5;241m.\u001b[39mbefore_iteration(bst, i, dtrain, evals):\n\u001b[0;32m     80\u001b[0m     \u001b[38;5;28;01mbreak\u001b[39;00m\n\u001b[1;32m---> 81\u001b[0m bst\u001b[38;5;241m.\u001b[39mupdate(dtrain, i, obj)\n\u001b[0;32m     82\u001b[0m \u001b[38;5;28;01mif\u001b[39;00m callbacks\u001b[38;5;241m.\u001b[39mafter_iteration(bst, i, dtrain, evals):\n\u001b[0;32m     83\u001b[0m     \u001b[38;5;28;01mbreak\u001b[39;00m\n",
      "File \u001b[1;32mc:\\Users\\utente\\anaconda3\\Lib\\site-packages\\xgboost\\core.py:1680\u001b[0m, in \u001b[0;36mBooster.update\u001b[1;34m(self, dtrain, iteration, fobj)\u001b[0m\n\u001b[0;32m   1677\u001b[0m \u001b[38;5;28mself\u001b[39m\u001b[38;5;241m.\u001b[39m_validate_features(dtrain)\n\u001b[0;32m   1679\u001b[0m \u001b[38;5;28;01mif\u001b[39;00m fobj \u001b[38;5;129;01mis\u001b[39;00m \u001b[38;5;28;01mNone\u001b[39;00m:\n\u001b[1;32m-> 1680\u001b[0m     _check_call(_LIB\u001b[38;5;241m.\u001b[39mXGBoosterUpdateOneIter(\u001b[38;5;28mself\u001b[39m\u001b[38;5;241m.\u001b[39mhandle,\n\u001b[0;32m   1681\u001b[0m                                             ctypes\u001b[38;5;241m.\u001b[39mc_int(iteration),\n\u001b[0;32m   1682\u001b[0m                                             dtrain\u001b[38;5;241m.\u001b[39mhandle))\n\u001b[0;32m   1683\u001b[0m \u001b[38;5;28;01melse\u001b[39;00m:\n\u001b[0;32m   1684\u001b[0m     pred \u001b[38;5;241m=\u001b[39m \u001b[38;5;28mself\u001b[39m\u001b[38;5;241m.\u001b[39mpredict(dtrain, output_margin\u001b[38;5;241m=\u001b[39m\u001b[38;5;28;01mTrue\u001b[39;00m, training\u001b[38;5;241m=\u001b[39m\u001b[38;5;28;01mTrue\u001b[39;00m)\n",
      "\u001b[1;31mKeyboardInterrupt\u001b[0m: "
     ]
    }
   ],
   "source": [
    "tabula_nl_bins = [1900, 1965, 1975, 1992, 2006, 2015, 2022]\n",
    "equally_sized_bins = (1900, 2020, 10)\n",
    "\n",
    "classifier = AgeClassifier(\n",
    "    model=XGBClassifier(**xgb_model_params),\n",
    "    df=df,\n",
    "    test_training_split=pp.split_80_20,\n",
    "    # cross_validation_split=pp.cross_validation,\n",
    "    preprocessing_stages=[pp.remove_outliers],\n",
    "    hyperparameters=xgb_hyperparams,\n",
    "    mitigate_class_imbalance=True,\n",
    "    bin_config=equally_sized_bins,\n",
    "    #bins=tabula_nl_bins,\n",
    ")\n",
    "classifier.evaluate()"
   ]
  },
  {
   "attachments": {},
   "cell_type": "markdown",
   "metadata": {},
   "source": [
    "### Country and generalization comparison"
   ]
  },
  {
   "cell_type": "markdown",
   "metadata": {},
   "source": [
    "The `AgePredictorComparison` faciliates comparisons between differently configured training runs, for example to compare the prediction performance between countries, cross-validation strategies, oversampling strategies or any other preprocessing steps."
   ]
  },
  {
   "cell_type": "code",
   "execution_count": 34,
   "metadata": {},
   "outputs": [
    {
     "name": "stderr",
     "output_type": "stream",
     "text": [
      "2022-10-21 16:42:52,510 | INFO : Starting experiment Spain_random-cv...\n",
      "2022-10-21 16:42:53,720 | INFO : Dataset length: 974\n",
      "2022-10-21 16:42:53,726 | INFO : Dataset allocated memory: 1 MB\n",
      "2022-10-21 16:42:53,731 | INFO : No abort signal received. Continuing... To abort please create /p/projects/eubucco/data/3-ml-inputs/local-1eb3cae2.abort.\n",
      "2022-10-21 16:42:53,731 | INFO : Dataset standard deviation: 45.78138305502198\n",
      "2022-10-21 16:42:53,732 | INFO : Dataset mean age: 1950.3613963039015\n",
      "2022-10-21 16:42:53,733 | INFO : Training dataset length: 779\n",
      "2022-10-21 16:42:53,733 | INFO : Test dataset length: 195\n",
      "2022-10-21 16:42:53,748 | INFO : Test dataset standard deviation after preprocessing: 34.49407581359104\n",
      "2022-10-21 16:42:53,749 | INFO : Test dataset mean age after preprocessing: 1958.8352272727273\n",
      "2022-10-21 16:42:53,749 | INFO : Training dataset length after preprocessing: 710\n",
      "2022-10-21 16:42:53,749 | INFO : Test dataset length after preprocessing: 176\n",
      "`early_stopping_rounds` in `fit` method is deprecated for better compatibility with scikit-learn, use `early_stopping_rounds` in constructor or`set_params` instead.\n",
      "2022-10-21 16:42:54,115 | INFO : No abort signal received. Continuing... To abort please create /p/projects/eubucco/data/3-ml-inputs/local-1eb3cae2.abort.\n",
      "2022-10-21 16:42:54,116 | INFO : Dataset standard deviation: 45.78138305502198\n",
      "2022-10-21 16:42:54,117 | INFO : Dataset mean age: 1950.3613963039015\n",
      "2022-10-21 16:42:54,117 | INFO : Training dataset length: 779\n",
      "2022-10-21 16:42:54,118 | INFO : Test dataset length: 195\n",
      "2022-10-21 16:42:54,136 | INFO : Test dataset standard deviation after preprocessing: 32.66656219614004\n",
      "2022-10-21 16:42:54,137 | INFO : Test dataset mean age after preprocessing: 1963.875\n",
      "2022-10-21 16:42:54,138 | INFO : Training dataset length after preprocessing: 710\n",
      "2022-10-21 16:42:54,138 | INFO : Test dataset length after preprocessing: 176\n",
      "`early_stopping_rounds` in `fit` method is deprecated for better compatibility with scikit-learn, use `early_stopping_rounds` in constructor or`set_params` instead.\n",
      "2022-10-21 16:42:54,590 | INFO : No abort signal received. Continuing... To abort please create /p/projects/eubucco/data/3-ml-inputs/local-1eb3cae2.abort.\n",
      "2022-10-21 16:42:54,591 | INFO : Dataset standard deviation: 45.78138305502198\n",
      "2022-10-21 16:42:54,592 | INFO : Dataset mean age: 1950.3613963039015\n",
      "2022-10-21 16:42:54,593 | INFO : Training dataset length: 779\n",
      "2022-10-21 16:42:54,594 | INFO : Test dataset length: 195\n",
      "2022-10-21 16:42:54,614 | INFO : Test dataset standard deviation after preprocessing: 32.182346310183064\n",
      "2022-10-21 16:42:54,615 | INFO : Test dataset mean age after preprocessing: 1961.0777777777778\n",
      "2022-10-21 16:42:54,616 | INFO : Training dataset length after preprocessing: 706\n",
      "2022-10-21 16:42:54,616 | INFO : Test dataset length after preprocessing: 180\n",
      "`early_stopping_rounds` in `fit` method is deprecated for better compatibility with scikit-learn, use `early_stopping_rounds` in constructor or`set_params` instead.\n",
      "2022-10-21 16:42:55,152 | INFO : No abort signal received. Continuing... To abort please create /p/projects/eubucco/data/3-ml-inputs/local-1eb3cae2.abort.\n",
      "2022-10-21 16:42:55,153 | INFO : Dataset standard deviation: 45.78138305502198\n",
      "2022-10-21 16:42:55,154 | INFO : Dataset mean age: 1950.3613963039015\n",
      "2022-10-21 16:42:55,155 | INFO : Training dataset length: 779\n",
      "2022-10-21 16:42:55,155 | INFO : Test dataset length: 195\n",
      "2022-10-21 16:42:55,175 | INFO : Test dataset standard deviation after preprocessing: 32.5996906018213\n",
      "2022-10-21 16:42:55,176 | INFO : Test dataset mean age after preprocessing: 1956.0168539325844\n",
      "2022-10-21 16:42:55,177 | INFO : Training dataset length after preprocessing: 708\n",
      "2022-10-21 16:42:55,177 | INFO : Test dataset length after preprocessing: 178\n",
      "`early_stopping_rounds` in `fit` method is deprecated for better compatibility with scikit-learn, use `early_stopping_rounds` in constructor or`set_params` instead.\n",
      "2022-10-21 16:42:55,545 | INFO : No abort signal received. Continuing... To abort please create /p/projects/eubucco/data/3-ml-inputs/local-1eb3cae2.abort.\n",
      "2022-10-21 16:42:55,546 | INFO : Dataset standard deviation: 45.78138305502198\n",
      "2022-10-21 16:42:55,547 | INFO : Dataset mean age: 1950.3613963039015\n",
      "2022-10-21 16:42:55,548 | INFO : Training dataset length: 780\n",
      "2022-10-21 16:42:55,548 | INFO : Test dataset length: 194\n",
      "2022-10-21 16:42:55,568 | INFO : Test dataset standard deviation after preprocessing: 32.935031974613764\n",
      "2022-10-21 16:42:55,569 | INFO : Test dataset mean age after preprocessing: 1958.721590909091\n",
      "2022-10-21 16:42:55,569 | INFO : Training dataset length after preprocessing: 710\n",
      "2022-10-21 16:42:55,570 | INFO : Test dataset length after preprocessing: 176\n",
      "`early_stopping_rounds` in `fit` method is deprecated for better compatibility with scikit-learn, use `early_stopping_rounds` in constructor or`set_params` instead.\n",
      "2022-10-21 16:42:56,318 | INFO : Starting experiment France_random-cv...\n",
      "2022-10-21 16:42:56,443 | INFO : Dataset length: 19625\n",
      "2022-10-21 16:42:56,448 | INFO : Dataset allocated memory: 20 MB\n",
      "2022-10-21 16:42:56,463 | INFO : No abort signal received. Continuing... To abort please create /p/projects/eubucco/data/3-ml-inputs/local-6c1df9b3.abort.\n",
      "2022-10-21 16:42:56,464 | INFO : Dataset standard deviation: 69.97507071401162\n",
      "2022-10-21 16:42:56,465 | INFO : Dataset mean age: 1944.1809426751593\n",
      "2022-10-21 16:42:56,466 | INFO : Training dataset length: 15700\n",
      "2022-10-21 16:42:56,467 | INFO : Test dataset length: 3925\n",
      "2022-10-21 16:42:56,516 | INFO : Test dataset standard deviation after preprocessing: 26.351582324305316\n",
      "2022-10-21 16:42:56,516 | INFO : Test dataset mean age after preprocessing: 1979.3209530483532\n",
      "2022-10-21 16:42:56,517 | INFO : Training dataset length after preprocessing: 11563\n",
      "2022-10-21 16:42:56,518 | INFO : Test dataset length after preprocessing: 2854\n",
      "`early_stopping_rounds` in `fit` method is deprecated for better compatibility with scikit-learn, use `early_stopping_rounds` in constructor or`set_params` instead.\n",
      "2022-10-21 16:42:59,261 | INFO : No abort signal received. Continuing... To abort please create /p/projects/eubucco/data/3-ml-inputs/local-6c1df9b3.abort.\n",
      "2022-10-21 16:42:59,263 | INFO : Dataset standard deviation: 69.97507071401162\n",
      "2022-10-21 16:42:59,264 | INFO : Dataset mean age: 1944.1809426751593\n",
      "2022-10-21 16:42:59,265 | INFO : Training dataset length: 15700\n",
      "2022-10-21 16:42:59,265 | INFO : Test dataset length: 3925\n",
      "2022-10-21 16:42:59,321 | INFO : Test dataset standard deviation after preprocessing: 26.22312882519785\n",
      "2022-10-21 16:42:59,322 | INFO : Test dataset mean age after preprocessing: 1979.7270861833106\n",
      "2022-10-21 16:42:59,323 | INFO : Training dataset length after preprocessing: 11493\n",
      "2022-10-21 16:42:59,323 | INFO : Test dataset length after preprocessing: 2924\n",
      "`early_stopping_rounds` in `fit` method is deprecated for better compatibility with scikit-learn, use `early_stopping_rounds` in constructor or`set_params` instead.\n",
      "2022-10-21 16:43:02,304 | INFO : No abort signal received. Continuing... To abort please create /p/projects/eubucco/data/3-ml-inputs/local-6c1df9b3.abort.\n",
      "2022-10-21 16:43:02,306 | INFO : Dataset standard deviation: 69.97507071401162\n",
      "2022-10-21 16:43:02,307 | INFO : Dataset mean age: 1944.1809426751593\n",
      "2022-10-21 16:43:02,308 | INFO : Training dataset length: 15700\n",
      "2022-10-21 16:43:02,309 | INFO : Test dataset length: 3925\n",
      "2022-10-21 16:43:02,359 | INFO : Test dataset standard deviation after preprocessing: 26.47775043789445\n",
      "2022-10-21 16:43:02,360 | INFO : Test dataset mean age after preprocessing: 1979.8195750609543\n",
      "2022-10-21 16:43:02,360 | INFO : Training dataset length after preprocessing: 11546\n",
      "2022-10-21 16:43:02,361 | INFO : Test dataset length after preprocessing: 2871\n",
      "`early_stopping_rounds` in `fit` method is deprecated for better compatibility with scikit-learn, use `early_stopping_rounds` in constructor or`set_params` instead.\n",
      "2022-10-21 16:43:05,347 | INFO : No abort signal received. Continuing... To abort please create /p/projects/eubucco/data/3-ml-inputs/local-6c1df9b3.abort.\n",
      "2022-10-21 16:43:05,349 | INFO : Dataset standard deviation: 69.97507071401162\n",
      "2022-10-21 16:43:05,351 | INFO : Dataset mean age: 1944.1809426751593\n",
      "2022-10-21 16:43:05,352 | INFO : Training dataset length: 15700\n",
      "2022-10-21 16:43:05,352 | INFO : Test dataset length: 3925\n",
      "2022-10-21 16:43:05,416 | INFO : Test dataset standard deviation after preprocessing: 25.766233816924423\n",
      "2022-10-21 16:43:05,417 | INFO : Test dataset mean age after preprocessing: 1981.037023977433\n",
      "2022-10-21 16:43:05,417 | INFO : Training dataset length after preprocessing: 11581\n",
      "2022-10-21 16:43:05,418 | INFO : Test dataset length after preprocessing: 2836\n",
      "`early_stopping_rounds` in `fit` method is deprecated for better compatibility with scikit-learn, use `early_stopping_rounds` in constructor or`set_params` instead.\n",
      "2022-10-21 16:43:08,584 | INFO : No abort signal received. Continuing... To abort please create /p/projects/eubucco/data/3-ml-inputs/local-6c1df9b3.abort.\n",
      "2022-10-21 16:43:08,586 | INFO : Dataset standard deviation: 69.97507071401162\n",
      "2022-10-21 16:43:08,587 | INFO : Dataset mean age: 1944.1809426751593\n",
      "2022-10-21 16:43:08,588 | INFO : Training dataset length: 15700\n",
      "2022-10-21 16:43:08,589 | INFO : Test dataset length: 3925\n",
      "2022-10-21 16:43:08,639 | INFO : Test dataset standard deviation after preprocessing: 27.01922630583458\n",
      "2022-10-21 16:43:08,641 | INFO : Test dataset mean age after preprocessing: 1979.3833560709413\n",
      "2022-10-21 16:43:08,642 | INFO : Training dataset length after preprocessing: 11485\n",
      "2022-10-21 16:43:08,642 | INFO : Test dataset length after preprocessing: 2932\n",
      "`early_stopping_rounds` in `fit` method is deprecated for better compatibility with scikit-learn, use `early_stopping_rounds` in constructor or`set_params` instead.\n",
      "2022-10-21 16:43:12,079 | INFO : Starting experiment Netherlands_random-cv...\n",
      "2022-10-21 16:43:13,168 | INFO : Dataset length: 147706\n",
      "2022-10-21 16:43:13,173 | INFO : Dataset allocated memory: 154 MB\n",
      "2022-10-21 16:43:13,244 | INFO : No abort signal received. Continuing... To abort please create /p/projects/eubucco/data/3-ml-inputs/local-65ae921e.abort.\n",
      "2022-10-21 16:43:13,246 | INFO : Dataset standard deviation: 28.04851594248268\n",
      "2022-10-21 16:43:13,248 | INFO : Dataset mean age: 1974.6345036762216\n",
      "2022-10-21 16:43:13,248 | INFO : Training dataset length: 118164\n",
      "2022-10-21 16:43:13,249 | INFO : Test dataset length: 29542\n",
      "2022-10-21 16:43:13,633 | INFO : Test dataset standard deviation after preprocessing: 25.39573319971459\n",
      "2022-10-21 16:43:13,634 | INFO : Test dataset mean age after preprocessing: 1975.805232159978\n",
      "2022-10-21 16:43:13,635 | INFO : Training dataset length after preprocessing: 116840\n",
      "2022-10-21 16:43:13,635 | INFO : Test dataset length after preprocessing: 29204\n",
      "`early_stopping_rounds` in `fit` method is deprecated for better compatibility with scikit-learn, use `early_stopping_rounds` in constructor or`set_params` instead.\n",
      "2022-10-21 16:43:22,576 | INFO : No abort signal received. Continuing... To abort please create /p/projects/eubucco/data/3-ml-inputs/local-65ae921e.abort.\n",
      "2022-10-21 16:43:22,578 | INFO : Dataset standard deviation: 28.04851594248268\n",
      "2022-10-21 16:43:22,580 | INFO : Dataset mean age: 1974.6345036762216\n",
      "2022-10-21 16:43:22,580 | INFO : Training dataset length: 118165\n",
      "2022-10-21 16:43:22,581 | INFO : Test dataset length: 29541\n",
      "2022-10-21 16:43:22,996 | INFO : Test dataset standard deviation after preprocessing: 25.223689972656587\n",
      "2022-10-21 16:43:22,997 | INFO : Test dataset mean age after preprocessing: 1975.7403730960123\n",
      "2022-10-21 16:43:22,997 | INFO : Training dataset length after preprocessing: 116829\n",
      "2022-10-21 16:43:22,998 | INFO : Test dataset length after preprocessing: 29215\n",
      "`early_stopping_rounds` in `fit` method is deprecated for better compatibility with scikit-learn, use `early_stopping_rounds` in constructor or`set_params` instead.\n",
      "2022-10-21 16:43:32,525 | INFO : No abort signal received. Continuing... To abort please create /p/projects/eubucco/data/3-ml-inputs/local-65ae921e.abort.\n",
      "2022-10-21 16:43:32,528 | INFO : Dataset standard deviation: 28.04851594248268\n",
      "2022-10-21 16:43:32,529 | INFO : Dataset mean age: 1974.6345036762216\n",
      "2022-10-21 16:43:32,530 | INFO : Training dataset length: 118165\n",
      "2022-10-21 16:43:32,531 | INFO : Test dataset length: 29541\n",
      "2022-10-21 16:43:32,937 | INFO : Test dataset standard deviation after preprocessing: 25.49599785716712\n",
      "2022-10-21 16:43:32,938 | INFO : Test dataset mean age after preprocessing: 1975.7676598364862\n",
      "2022-10-21 16:43:32,939 | INFO : Training dataset length after preprocessing: 116811\n",
      "2022-10-21 16:43:32,940 | INFO : Test dataset length after preprocessing: 29233\n",
      "`early_stopping_rounds` in `fit` method is deprecated for better compatibility with scikit-learn, use `early_stopping_rounds` in constructor or`set_params` instead.\n",
      "2022-10-21 16:43:42,334 | INFO : No abort signal received. Continuing... To abort please create /p/projects/eubucco/data/3-ml-inputs/local-65ae921e.abort.\n",
      "2022-10-21 16:43:42,336 | INFO : Dataset standard deviation: 28.04851594248268\n",
      "2022-10-21 16:43:42,338 | INFO : Dataset mean age: 1974.6345036762216\n",
      "2022-10-21 16:43:42,339 | INFO : Training dataset length: 118165\n",
      "2022-10-21 16:43:42,340 | INFO : Test dataset length: 29541\n",
      "2022-10-21 16:43:42,740 | INFO : Test dataset standard deviation after preprocessing: 25.47460972363702\n",
      "2022-10-21 16:43:42,741 | INFO : Test dataset mean age after preprocessing: 1975.7596710639027\n",
      "2022-10-21 16:43:42,742 | INFO : Training dataset length after preprocessing: 116859\n",
      "2022-10-21 16:43:42,742 | INFO : Test dataset length after preprocessing: 29185\n",
      "`early_stopping_rounds` in `fit` method is deprecated for better compatibility with scikit-learn, use `early_stopping_rounds` in constructor or`set_params` instead.\n",
      "2022-10-21 16:43:52,274 | INFO : No abort signal received. Continuing... To abort please create /p/projects/eubucco/data/3-ml-inputs/local-65ae921e.abort.\n",
      "2022-10-21 16:43:52,277 | INFO : Dataset standard deviation: 28.04851594248268\n",
      "2022-10-21 16:43:52,278 | INFO : Dataset mean age: 1974.6345036762216\n",
      "2022-10-21 16:43:52,279 | INFO : Training dataset length: 118165\n",
      "2022-10-21 16:43:52,280 | INFO : Test dataset length: 29541\n",
      "2022-10-21 16:43:52,679 | INFO : Test dataset standard deviation after preprocessing: 25.307730713106885\n",
      "2022-10-21 16:43:52,680 | INFO : Test dataset mean age after preprocessing: 1975.7559146779881\n",
      "2022-10-21 16:43:52,681 | INFO : Training dataset length after preprocessing: 116837\n",
      "2022-10-21 16:43:52,681 | INFO : Test dataset length after preprocessing: 29207\n",
      "`early_stopping_rounds` in `fit` method is deprecated for better compatibility with scikit-learn, use `early_stopping_rounds` in constructor or`set_params` instead.\n",
      "2022-10-21 16:44:03,043 | INFO : Starting experiment Spain_neighborhood-cv...\n",
      "2022-10-21 16:44:04,252 | INFO : Dataset length: 974\n",
      "2022-10-21 16:44:04,257 | INFO : Dataset allocated memory: 1 MB\n",
      "2022-10-21 16:44:04,258 | INFO : Reusing neighborhood column existing in data.\n",
      "2022-10-21 16:44:04,262 | INFO : No abort signal received. Continuing... To abort please create /p/projects/eubucco/data/3-ml-inputs/local-7d57b122.abort.\n",
      "2022-10-21 16:44:04,263 | INFO : Dataset standard deviation: 45.78138305502198\n",
      "2022-10-21 16:44:04,263 | INFO : Dataset mean age: 1950.3613963039015\n",
      "2022-10-21 16:44:04,264 | INFO : Training dataset length: 675\n",
      "2022-10-21 16:44:04,264 | INFO : Test dataset length: 299\n",
      "2022-10-21 16:44:04,279 | INFO : Test dataset standard deviation after preprocessing: 31.956217364704337\n",
      "2022-10-21 16:44:04,280 | INFO : Test dataset mean age after preprocessing: 1960.3154362416108\n",
      "2022-10-21 16:44:04,280 | INFO : Training dataset length after preprocessing: 588\n",
      "2022-10-21 16:44:04,281 | INFO : Test dataset length after preprocessing: 298\n",
      "`early_stopping_rounds` in `fit` method is deprecated for better compatibility with scikit-learn, use `early_stopping_rounds` in constructor or`set_params` instead.\n",
      "2022-10-21 16:44:04,757 | INFO : No abort signal received. Continuing... To abort please create /p/projects/eubucco/data/3-ml-inputs/local-7d57b122.abort.\n",
      "2022-10-21 16:44:04,758 | INFO : Dataset standard deviation: 45.78138305502198\n",
      "2022-10-21 16:44:04,759 | INFO : Dataset mean age: 1950.3613963039015\n",
      "2022-10-21 16:44:04,760 | INFO : Training dataset length: 740\n",
      "2022-10-21 16:44:04,761 | INFO : Test dataset length: 234\n",
      "2022-10-21 16:44:04,783 | INFO : Test dataset standard deviation after preprocessing: 35.199759365096945\n",
      "2022-10-21 16:44:04,784 | INFO : Test dataset mean age after preprocessing: 1941.65\n",
      "2022-10-21 16:44:04,785 | INFO : Training dataset length after preprocessing: 666\n",
      "2022-10-21 16:44:04,785 | INFO : Test dataset length after preprocessing: 220\n",
      "`early_stopping_rounds` in `fit` method is deprecated for better compatibility with scikit-learn, use `early_stopping_rounds` in constructor or`set_params` instead.\n",
      "2022-10-21 16:44:05,160 | INFO : No abort signal received. Continuing... To abort please create /p/projects/eubucco/data/3-ml-inputs/local-7d57b122.abort.\n",
      "2022-10-21 16:44:05,161 | INFO : Dataset standard deviation: 45.78138305502198\n",
      "2022-10-21 16:44:05,162 | INFO : Dataset mean age: 1950.3613963039015\n",
      "2022-10-21 16:44:05,163 | INFO : Training dataset length: 779\n",
      "2022-10-21 16:44:05,163 | INFO : Test dataset length: 195\n",
      "2022-10-21 16:44:05,184 | INFO : Test dataset standard deviation after preprocessing: 28.33530596863871\n",
      "2022-10-21 16:44:05,185 | INFO : Test dataset mean age after preprocessing: 1957.936507936508\n",
      "2022-10-21 16:44:05,186 | INFO : Training dataset length after preprocessing: 697\n",
      "2022-10-21 16:44:05,186 | INFO : Test dataset length after preprocessing: 189\n",
      "`early_stopping_rounds` in `fit` method is deprecated for better compatibility with scikit-learn, use `early_stopping_rounds` in constructor or`set_params` instead.\n",
      "2022-10-21 16:44:05,655 | INFO : No abort signal received. Continuing... To abort please create /p/projects/eubucco/data/3-ml-inputs/local-7d57b122.abort.\n",
      "2022-10-21 16:44:05,656 | INFO : Dataset standard deviation: 45.78138305502198\n",
      "2022-10-21 16:44:05,657 | INFO : Dataset mean age: 1950.3613963039015\n",
      "2022-10-21 16:44:05,658 | INFO : Training dataset length: 863\n",
      "2022-10-21 16:44:05,659 | INFO : Test dataset length: 111\n",
      "2022-10-21 16:44:05,679 | INFO : Test dataset standard deviation after preprocessing: 20.35446077489167\n",
      "2022-10-21 16:44:05,680 | INFO : Test dataset mean age after preprocessing: 1982.904761904762\n",
      "2022-10-21 16:44:05,681 | INFO : Training dataset length after preprocessing: 802\n",
      "2022-10-21 16:44:05,682 | INFO : Test dataset length after preprocessing: 84\n",
      "`early_stopping_rounds` in `fit` method is deprecated for better compatibility with scikit-learn, use `early_stopping_rounds` in constructor or`set_params` instead.\n",
      "2022-10-21 16:44:06,104 | INFO : No abort signal received. Continuing... To abort please create /p/projects/eubucco/data/3-ml-inputs/local-7d57b122.abort.\n",
      "2022-10-21 16:44:06,105 | INFO : Dataset standard deviation: 45.78138305502198\n",
      "2022-10-21 16:44:06,106 | INFO : Dataset mean age: 1950.3613963039015\n",
      "2022-10-21 16:44:06,107 | INFO : Training dataset length: 839\n",
      "2022-10-21 16:44:06,108 | INFO : Test dataset length: 135\n",
      "2022-10-21 16:44:06,128 | INFO : Test dataset standard deviation after preprocessing: 19.855057095693187\n",
      "2022-10-21 16:44:06,129 | INFO : Test dataset mean age after preprocessing: 1982.5894736842106\n",
      "2022-10-21 16:44:06,130 | INFO : Training dataset length after preprocessing: 791\n",
      "2022-10-21 16:44:06,131 | INFO : Test dataset length after preprocessing: 95\n",
      "`early_stopping_rounds` in `fit` method is deprecated for better compatibility with scikit-learn, use `early_stopping_rounds` in constructor or`set_params` instead.\n",
      "2022-10-21 16:44:07,110 | INFO : Starting experiment France_neighborhood-cv...\n",
      "2022-10-21 16:44:07,218 | INFO : Dataset length: 19625\n",
      "2022-10-21 16:44:07,224 | INFO : Dataset allocated memory: 20 MB\n",
      "2022-10-21 16:44:07,225 | INFO : Reusing neighborhood column existing in data.\n",
      "2022-10-21 16:44:07,245 | INFO : No abort signal received. Continuing... To abort please create /p/projects/eubucco/data/3-ml-inputs/local-d0357291.abort.\n",
      "2022-10-21 16:44:07,247 | INFO : Dataset standard deviation: 69.97507071401162\n",
      "2022-10-21 16:44:07,248 | INFO : Dataset mean age: 1944.1809426751593\n",
      "2022-10-21 16:44:07,249 | INFO : Training dataset length: 15699\n",
      "2022-10-21 16:44:07,249 | INFO : Test dataset length: 3926\n",
      "2022-10-21 16:44:07,292 | INFO : Test dataset standard deviation after preprocessing: 26.147640834969383\n",
      "2022-10-21 16:44:07,293 | INFO : Test dataset mean age after preprocessing: 1980.0678851174935\n",
      "2022-10-21 16:44:07,293 | INFO : Training dataset length after preprocessing: 11736\n",
      "2022-10-21 16:44:07,294 | INFO : Test dataset length after preprocessing: 2681\n",
      "`early_stopping_rounds` in `fit` method is deprecated for better compatibility with scikit-learn, use `early_stopping_rounds` in constructor or`set_params` instead.\n",
      "2022-10-21 16:44:08,574 | INFO : No abort signal received. Continuing... To abort please create /p/projects/eubucco/data/3-ml-inputs/local-d0357291.abort.\n",
      "2022-10-21 16:44:08,576 | INFO : Dataset standard deviation: 69.97507071401162\n",
      "2022-10-21 16:44:08,577 | INFO : Dataset mean age: 1944.1809426751593\n",
      "2022-10-21 16:44:08,578 | INFO : Training dataset length: 15700\n",
      "2022-10-21 16:44:08,579 | INFO : Test dataset length: 3925\n",
      "2022-10-21 16:44:08,638 | INFO : Test dataset standard deviation after preprocessing: 22.059129423039277\n",
      "2022-10-21 16:44:08,639 | INFO : Test dataset mean age after preprocessing: 1984.1629941672068\n",
      "2022-10-21 16:44:08,640 | INFO : Training dataset length after preprocessing: 11331\n",
      "2022-10-21 16:44:08,640 | INFO : Test dataset length after preprocessing: 3086\n",
      "`early_stopping_rounds` in `fit` method is deprecated for better compatibility with scikit-learn, use `early_stopping_rounds` in constructor or`set_params` instead.\n",
      "2022-10-21 16:44:09,719 | INFO : No abort signal received. Continuing... To abort please create /p/projects/eubucco/data/3-ml-inputs/local-d0357291.abort.\n",
      "2022-10-21 16:44:09,721 | INFO : Dataset standard deviation: 69.97507071401162\n",
      "2022-10-21 16:44:09,722 | INFO : Dataset mean age: 1944.1809426751593\n",
      "2022-10-21 16:44:09,723 | INFO : Training dataset length: 15700\n",
      "2022-10-21 16:44:09,724 | INFO : Test dataset length: 3925\n",
      "2022-10-21 16:44:09,786 | INFO : Test dataset standard deviation after preprocessing: 29.74950952572091\n",
      "2022-10-21 16:44:09,787 | INFO : Test dataset mean age after preprocessing: 1972.266184448463\n",
      "2022-10-21 16:44:09,787 | INFO : Training dataset length after preprocessing: 11652\n",
      "2022-10-21 16:44:09,788 | INFO : Test dataset length after preprocessing: 2765\n",
      "`early_stopping_rounds` in `fit` method is deprecated for better compatibility with scikit-learn, use `early_stopping_rounds` in constructor or`set_params` instead.\n",
      "2022-10-21 16:44:10,614 | INFO : No abort signal received. Continuing... To abort please create /p/projects/eubucco/data/3-ml-inputs/local-d0357291.abort.\n",
      "2022-10-21 16:44:10,616 | INFO : Dataset standard deviation: 69.97507071401162\n",
      "2022-10-21 16:44:10,618 | INFO : Dataset mean age: 1944.1809426751593\n",
      "2022-10-21 16:44:10,619 | INFO : Training dataset length: 15700\n",
      "2022-10-21 16:44:10,619 | INFO : Test dataset length: 3925\n",
      "2022-10-21 16:44:10,674 | INFO : Test dataset standard deviation after preprocessing: 28.808374396670327\n",
      "2022-10-21 16:44:10,675 | INFO : Test dataset mean age after preprocessing: 1978.5458290422246\n",
      "2022-10-21 16:44:10,676 | INFO : Training dataset length after preprocessing: 11504\n",
      "2022-10-21 16:44:10,677 | INFO : Test dataset length after preprocessing: 2913\n",
      "`early_stopping_rounds` in `fit` method is deprecated for better compatibility with scikit-learn, use `early_stopping_rounds` in constructor or`set_params` instead.\n",
      "2022-10-21 16:44:11,772 | INFO : No abort signal received. Continuing... To abort please create /p/projects/eubucco/data/3-ml-inputs/local-d0357291.abort.\n",
      "2022-10-21 16:44:11,775 | INFO : Dataset standard deviation: 69.97507071401162\n",
      "2022-10-21 16:44:11,777 | INFO : Dataset mean age: 1944.1809426751593\n",
      "2022-10-21 16:44:11,778 | INFO : Training dataset length: 15701\n",
      "2022-10-21 16:44:11,778 | INFO : Test dataset length: 3924\n",
      "2022-10-21 16:44:11,838 | INFO : Test dataset standard deviation after preprocessing: 23.00641214340772\n",
      "2022-10-21 16:44:11,839 | INFO : Test dataset mean age after preprocessing: 1983.522880215343\n",
      "2022-10-21 16:44:11,840 | INFO : Training dataset length after preprocessing: 11445\n",
      "2022-10-21 16:44:11,841 | INFO : Test dataset length after preprocessing: 2972\n",
      "`early_stopping_rounds` in `fit` method is deprecated for better compatibility with scikit-learn, use `early_stopping_rounds` in constructor or`set_params` instead.\n",
      "2022-10-21 16:44:13,869 | INFO : Starting experiment Netherlands_neighborhood-cv...\n",
      "2022-10-21 16:44:14,927 | INFO : Dataset length: 147706\n",
      "2022-10-21 16:44:14,932 | INFO : Dataset allocated memory: 154 MB\n",
      "2022-10-21 16:44:14,934 | INFO : Reusing neighborhood column existing in data.\n",
      "2022-10-21 16:44:15,087 | INFO : No abort signal received. Continuing... To abort please create /p/projects/eubucco/data/3-ml-inputs/local-4ca9cd8d.abort.\n",
      "2022-10-21 16:44:15,089 | INFO : Dataset standard deviation: 28.04851594248268\n",
      "2022-10-21 16:44:15,091 | INFO : Dataset mean age: 1974.6345036762216\n",
      "2022-10-21 16:44:15,091 | INFO : Training dataset length: 118164\n",
      "2022-10-21 16:44:15,091 | INFO : Test dataset length: 29542\n",
      "2022-10-21 16:44:15,468 | INFO : Test dataset standard deviation after preprocessing: 28.935082154644657\n",
      "2022-10-21 16:44:15,469 | INFO : Test dataset mean age after preprocessing: 1970.0846606350408\n",
      "2022-10-21 16:44:15,469 | INFO : Training dataset length after preprocessing: 116975\n",
      "2022-10-21 16:44:15,470 | INFO : Test dataset length after preprocessing: 29069\n",
      "`early_stopping_rounds` in `fit` method is deprecated for better compatibility with scikit-learn, use `early_stopping_rounds` in constructor or`set_params` instead.\n",
      "2022-10-21 16:44:22,283 | INFO : No abort signal received. Continuing... To abort please create /p/projects/eubucco/data/3-ml-inputs/local-4ca9cd8d.abort.\n",
      "2022-10-21 16:44:22,286 | INFO : Dataset standard deviation: 28.04851594248268\n",
      "2022-10-21 16:44:22,288 | INFO : Dataset mean age: 1974.6345036762216\n",
      "2022-10-21 16:44:22,289 | INFO : Training dataset length: 118165\n",
      "2022-10-21 16:44:22,289 | INFO : Test dataset length: 29541\n",
      "2022-10-21 16:44:22,703 | INFO : Test dataset standard deviation after preprocessing: 24.95239689089501\n",
      "2022-10-21 16:44:22,704 | INFO : Test dataset mean age after preprocessing: 1973.4328429695518\n",
      "2022-10-21 16:44:22,705 | INFO : Training dataset length after preprocessing: 116814\n",
      "2022-10-21 16:44:22,706 | INFO : Test dataset length after preprocessing: 29230\n",
      "`early_stopping_rounds` in `fit` method is deprecated for better compatibility with scikit-learn, use `early_stopping_rounds` in constructor or`set_params` instead.\n",
      "2022-10-21 16:44:28,201 | INFO : No abort signal received. Continuing... To abort please create /p/projects/eubucco/data/3-ml-inputs/local-4ca9cd8d.abort.\n",
      "2022-10-21 16:44:28,204 | INFO : Dataset standard deviation: 28.04851594248268\n",
      "2022-10-21 16:44:28,206 | INFO : Dataset mean age: 1974.6345036762216\n",
      "2022-10-21 16:44:28,207 | INFO : Training dataset length: 118165\n",
      "2022-10-21 16:44:28,207 | INFO : Test dataset length: 29541\n",
      "2022-10-21 16:44:28,621 | INFO : Test dataset standard deviation after preprocessing: 26.086501899919966\n",
      "2022-10-21 16:44:28,622 | INFO : Test dataset mean age after preprocessing: 1977.429920561863\n",
      "2022-10-21 16:44:28,623 | INFO : Training dataset length after preprocessing: 116713\n",
      "2022-10-21 16:44:28,623 | INFO : Test dataset length after preprocessing: 29331\n",
      "`early_stopping_rounds` in `fit` method is deprecated for better compatibility with scikit-learn, use `early_stopping_rounds` in constructor or`set_params` instead.\n",
      "2022-10-21 16:44:32,777 | INFO : No abort signal received. Continuing... To abort please create /p/projects/eubucco/data/3-ml-inputs/local-4ca9cd8d.abort.\n",
      "2022-10-21 16:44:32,780 | INFO : Dataset standard deviation: 28.04851594248268\n",
      "2022-10-21 16:44:32,782 | INFO : Dataset mean age: 1974.6345036762216\n",
      "2022-10-21 16:44:32,782 | INFO : Training dataset length: 118165\n",
      "2022-10-21 16:44:32,783 | INFO : Test dataset length: 29541\n",
      "2022-10-21 16:44:33,182 | INFO : Test dataset standard deviation after preprocessing: 21.945850557420872\n",
      "2022-10-21 16:44:33,183 | INFO : Test dataset mean age after preprocessing: 1979.4419145299146\n",
      "2022-10-21 16:44:33,183 | INFO : Training dataset length after preprocessing: 116794\n",
      "2022-10-21 16:44:33,184 | INFO : Test dataset length after preprocessing: 29250\n",
      "`early_stopping_rounds` in `fit` method is deprecated for better compatibility with scikit-learn, use `early_stopping_rounds` in constructor or`set_params` instead.\n",
      "2022-10-21 16:44:37,025 | INFO : No abort signal received. Continuing... To abort please create /p/projects/eubucco/data/3-ml-inputs/local-4ca9cd8d.abort.\n",
      "2022-10-21 16:44:37,027 | INFO : Dataset standard deviation: 28.04851594248268\n",
      "2022-10-21 16:44:37,029 | INFO : Dataset mean age: 1974.6345036762216\n",
      "2022-10-21 16:44:37,030 | INFO : Training dataset length: 118165\n",
      "2022-10-21 16:44:37,031 | INFO : Test dataset length: 29541\n",
      "2022-10-21 16:44:37,494 | INFO : Test dataset standard deviation after preprocessing: 23.20964775454083\n",
      "2022-10-21 16:44:37,495 | INFO : Test dataset mean age after preprocessing: 1978.4059113976134\n",
      "2022-10-21 16:44:37,496 | INFO : Training dataset length after preprocessing: 116880\n",
      "2022-10-21 16:44:37,496 | INFO : Test dataset length after preprocessing: 29164\n",
      "`early_stopping_rounds` in `fit` method is deprecated for better compatibility with scikit-learn, use `early_stopping_rounds` in constructor or`set_params` instead.\n",
      "2022-10-21 16:44:43,079 | INFO : Starting experiment Spain_city-cv...\n",
      "2022-10-21 16:44:44,222 | INFO : Dataset length: 974\n",
      "2022-10-21 16:44:44,227 | INFO : Dataset allocated memory: 1 MB\n",
      "2022-10-21 16:44:44,230 | INFO : No abort signal received. Continuing... To abort please create /p/projects/eubucco/data/3-ml-inputs/local-663bb9a8.abort.\n",
      "2022-10-21 16:44:44,231 | INFO : Dataset standard deviation: 45.78138305502198\n",
      "2022-10-21 16:44:44,232 | INFO : Dataset mean age: 1950.3613963039015\n",
      "2022-10-21 16:44:44,232 | INFO : Training dataset length: 675\n",
      "2022-10-21 16:44:44,232 | INFO : Test dataset length: 299\n",
      "2022-10-21 16:44:44,247 | INFO : Test dataset standard deviation after preprocessing: 31.956217364704337\n",
      "2022-10-21 16:44:44,248 | INFO : Test dataset mean age after preprocessing: 1960.3154362416108\n",
      "2022-10-21 16:44:44,249 | INFO : Training dataset length after preprocessing: 588\n",
      "2022-10-21 16:44:44,249 | INFO : Test dataset length after preprocessing: 298\n",
      "`early_stopping_rounds` in `fit` method is deprecated for better compatibility with scikit-learn, use `early_stopping_rounds` in constructor or`set_params` instead.\n",
      "2022-10-21 16:44:44,661 | INFO : No abort signal received. Continuing... To abort please create /p/projects/eubucco/data/3-ml-inputs/local-663bb9a8.abort.\n",
      "2022-10-21 16:44:44,662 | INFO : Dataset standard deviation: 45.78138305502198\n",
      "2022-10-21 16:44:44,663 | INFO : Dataset mean age: 1950.3613963039015\n",
      "2022-10-21 16:44:44,664 | INFO : Training dataset length: 739\n",
      "2022-10-21 16:44:44,664 | INFO : Test dataset length: 235\n",
      "2022-10-21 16:44:44,684 | INFO : Test dataset standard deviation after preprocessing: 35.33091551481178\n",
      "2022-10-21 16:44:44,685 | INFO : Test dataset mean age after preprocessing: 1941.9095022624435\n",
      "2022-10-21 16:44:44,685 | INFO : Training dataset length after preprocessing: 665\n",
      "2022-10-21 16:44:44,686 | INFO : Test dataset length after preprocessing: 221\n",
      "`early_stopping_rounds` in `fit` method is deprecated for better compatibility with scikit-learn, use `early_stopping_rounds` in constructor or`set_params` instead.\n",
      "2022-10-21 16:44:45,020 | INFO : No abort signal received. Continuing... To abort please create /p/projects/eubucco/data/3-ml-inputs/local-663bb9a8.abort.\n",
      "2022-10-21 16:44:45,021 | INFO : Dataset standard deviation: 45.78138305502198\n",
      "2022-10-21 16:44:45,022 | INFO : Dataset mean age: 1950.3613963039015\n",
      "2022-10-21 16:44:45,023 | INFO : Training dataset length: 779\n",
      "2022-10-21 16:44:45,024 | INFO : Test dataset length: 195\n",
      "2022-10-21 16:44:45,046 | INFO : Test dataset standard deviation after preprocessing: 28.33530596863871\n",
      "2022-10-21 16:44:45,047 | INFO : Test dataset mean age after preprocessing: 1957.936507936508\n",
      "2022-10-21 16:44:45,047 | INFO : Training dataset length after preprocessing: 697\n",
      "2022-10-21 16:44:45,048 | INFO : Test dataset length after preprocessing: 189\n",
      "`early_stopping_rounds` in `fit` method is deprecated for better compatibility with scikit-learn, use `early_stopping_rounds` in constructor or`set_params` instead.\n",
      "2022-10-21 16:44:45,483 | INFO : No abort signal received. Continuing... To abort please create /p/projects/eubucco/data/3-ml-inputs/local-663bb9a8.abort.\n",
      "2022-10-21 16:44:45,484 | INFO : Dataset standard deviation: 45.78138305502198\n",
      "2022-10-21 16:44:45,485 | INFO : Dataset mean age: 1950.3613963039015\n",
      "2022-10-21 16:44:45,486 | INFO : Training dataset length: 807\n",
      "2022-10-21 16:44:45,486 | INFO : Test dataset length: 167\n",
      "2022-10-21 16:44:45,507 | INFO : Test dataset standard deviation after preprocessing: 19.367780449505045\n",
      "2022-10-21 16:44:45,508 | INFO : Test dataset mean age after preprocessing: 1982.9862068965517\n",
      "2022-10-21 16:44:45,509 | INFO : Training dataset length after preprocessing: 741\n",
      "2022-10-21 16:44:45,510 | INFO : Test dataset length after preprocessing: 145\n",
      "`early_stopping_rounds` in `fit` method is deprecated for better compatibility with scikit-learn, use `early_stopping_rounds` in constructor or`set_params` instead.\n",
      "2022-10-21 16:44:46,105 | INFO : No abort signal received. Continuing... To abort please create /p/projects/eubucco/data/3-ml-inputs/local-663bb9a8.abort.\n",
      "2022-10-21 16:44:46,106 | INFO : Dataset standard deviation: 45.78138305502198\n",
      "2022-10-21 16:44:46,107 | INFO : Dataset mean age: 1950.3613963039015\n",
      "2022-10-21 16:44:46,107 | INFO : Training dataset length: 896\n",
      "2022-10-21 16:44:46,108 | INFO : Test dataset length: 78\n",
      "2022-10-21 16:44:46,127 | INFO : Test dataset standard deviation after preprocessing: 23.100488647593057\n",
      "2022-10-21 16:44:46,128 | INFO : Test dataset mean age after preprocessing: 1981.1515151515152\n",
      "2022-10-21 16:44:46,129 | INFO : Training dataset length after preprocessing: 853\n",
      "2022-10-21 16:44:46,130 | INFO : Test dataset length after preprocessing: 33\n",
      "`early_stopping_rounds` in `fit` method is deprecated for better compatibility with scikit-learn, use `early_stopping_rounds` in constructor or`set_params` instead.\n",
      "2022-10-21 16:44:47,208 | INFO : Starting experiment France_city-cv...\n",
      "2022-10-21 16:44:47,311 | INFO : Dataset length: 19625\n",
      "2022-10-21 16:44:47,316 | INFO : Dataset allocated memory: 20 MB\n",
      "2022-10-21 16:44:47,333 | INFO : No abort signal received. Continuing... To abort please create /p/projects/eubucco/data/3-ml-inputs/local-399966f3.abort.\n",
      "2022-10-21 16:44:47,335 | INFO : Dataset standard deviation: 69.97507071401162\n",
      "2022-10-21 16:44:47,336 | INFO : Dataset mean age: 1944.1809426751593\n",
      "2022-10-21 16:44:47,336 | INFO : Training dataset length: 12937\n",
      "2022-10-21 16:44:47,337 | INFO : Test dataset length: 6688\n",
      "2022-10-21 16:44:47,376 | INFO : Test dataset standard deviation after preprocessing: 27.74388307712151\n",
      "2022-10-21 16:44:47,377 | INFO : Test dataset mean age after preprocessing: 1980.5720154043645\n",
      "2022-10-21 16:44:47,377 | INFO : Training dataset length after preprocessing: 10522\n",
      "2022-10-21 16:44:47,377 | INFO : Test dataset length after preprocessing: 3895\n",
      "`early_stopping_rounds` in `fit` method is deprecated for better compatibility with scikit-learn, use `early_stopping_rounds` in constructor or`set_params` instead.\n",
      "2022-10-21 16:44:48,071 | INFO : No abort signal received. Continuing... To abort please create /p/projects/eubucco/data/3-ml-inputs/local-399966f3.abort.\n",
      "2022-10-21 16:44:48,073 | INFO : Dataset standard deviation: 69.97507071401162\n",
      "2022-10-21 16:44:48,074 | INFO : Dataset mean age: 1944.1809426751593\n",
      "2022-10-21 16:44:48,075 | INFO : Training dataset length: 12948\n",
      "2022-10-21 16:44:48,076 | INFO : Test dataset length: 6677\n",
      "2022-10-21 16:44:48,135 | INFO : Test dataset standard deviation after preprocessing: 17.789735118393526\n",
      "2022-10-21 16:44:48,137 | INFO : Test dataset mean age after preprocessing: 1987.3874465987512\n",
      "2022-10-21 16:44:48,138 | INFO : Training dataset length after preprocessing: 8331\n",
      "2022-10-21 16:44:48,138 | INFO : Test dataset length after preprocessing: 6086\n",
      "`early_stopping_rounds` in `fit` method is deprecated for better compatibility with scikit-learn, use `early_stopping_rounds` in constructor or`set_params` instead.\n",
      "2022-10-21 16:44:49,052 | INFO : No abort signal received. Continuing... To abort please create /p/projects/eubucco/data/3-ml-inputs/local-399966f3.abort.\n",
      "2022-10-21 16:44:49,054 | INFO : Dataset standard deviation: 69.97507071401162\n",
      "2022-10-21 16:44:49,055 | INFO : Dataset mean age: 1944.1809426751593\n",
      "2022-10-21 16:44:49,056 | INFO : Training dataset length: 15536\n",
      "2022-10-21 16:44:49,056 | INFO : Test dataset length: 4089\n",
      "2022-10-21 16:44:49,122 | INFO : Test dataset standard deviation after preprocessing: 31.76171429473107\n",
      "2022-10-21 16:44:49,123 | INFO : Test dataset mean age after preprocessing: 1965.4946396664682\n",
      "2022-10-21 16:44:49,123 | INFO : Training dataset length after preprocessing: 11059\n",
      "2022-10-21 16:44:49,124 | INFO : Test dataset length after preprocessing: 3358\n",
      "`early_stopping_rounds` in `fit` method is deprecated for better compatibility with scikit-learn, use `early_stopping_rounds` in constructor or`set_params` instead.\n",
      "2022-10-21 16:44:49,759 | INFO : No abort signal received. Continuing... To abort please create /p/projects/eubucco/data/3-ml-inputs/local-399966f3.abort.\n",
      "2022-10-21 16:44:49,761 | INFO : Dataset standard deviation: 69.97507071401162\n",
      "2022-10-21 16:44:49,762 | INFO : Dataset mean age: 1944.1809426751593\n",
      "2022-10-21 16:44:49,763 | INFO : Training dataset length: 17857\n",
      "2022-10-21 16:44:49,764 | INFO : Test dataset length: 1768\n",
      "2022-10-21 16:44:49,815 | INFO : Test dataset standard deviation after preprocessing: 23.41372357099903\n",
      "2022-10-21 16:44:49,816 | INFO : Test dataset mean age after preprocessing: 1985.858938547486\n",
      "2022-10-21 16:44:49,817 | INFO : Training dataset length after preprocessing: 13701\n",
      "2022-10-21 16:44:49,817 | INFO : Test dataset length after preprocessing: 716\n",
      "`early_stopping_rounds` in `fit` method is deprecated for better compatibility with scikit-learn, use `early_stopping_rounds` in constructor or`set_params` instead.\n",
      "2022-10-21 16:44:50,794 | INFO : No abort signal received. Continuing... To abort please create /p/projects/eubucco/data/3-ml-inputs/local-399966f3.abort.\n",
      "2022-10-21 16:44:50,796 | INFO : Dataset standard deviation: 69.97507071401162\n",
      "2022-10-21 16:44:50,797 | INFO : Dataset mean age: 1944.1809426751593\n",
      "2022-10-21 16:44:50,798 | INFO : Training dataset length: 19222\n",
      "2022-10-21 16:44:50,798 | INFO : Test dataset length: 403\n",
      "2022-10-21 16:44:50,857 | INFO : Test dataset standard deviation after preprocessing: 23.613057962244934\n",
      "2022-10-21 16:44:50,858 | INFO : Test dataset mean age after preprocessing: 1966.754143646409\n",
      "2022-10-21 16:44:50,858 | INFO : Training dataset length after preprocessing: 14055\n",
      "2022-10-21 16:44:50,859 | INFO : Test dataset length after preprocessing: 362\n",
      "`early_stopping_rounds` in `fit` method is deprecated for better compatibility with scikit-learn, use `early_stopping_rounds` in constructor or`set_params` instead.\n",
      "2022-10-21 16:44:51,922 | INFO : Starting experiment Netherlands_city-cv...\n",
      "2022-10-21 16:44:52,923 | INFO : Dataset length: 147706\n",
      "2022-10-21 16:44:52,929 | INFO : Dataset allocated memory: 154 MB\n",
      "2022-10-21 16:44:53,048 | INFO : No abort signal received. Continuing... To abort please create /p/projects/eubucco/data/3-ml-inputs/local-c29b793d.abort.\n",
      "2022-10-21 16:44:53,050 | INFO : Dataset standard deviation: 28.04851594248268\n",
      "2022-10-21 16:44:53,051 | INFO : Dataset mean age: 1974.6345036762216\n",
      "2022-10-21 16:44:53,052 | INFO : Training dataset length: 45572\n",
      "2022-10-21 16:44:53,052 | INFO : Test dataset length: 102134\n",
      "2022-10-21 16:44:53,413 | INFO : Test dataset standard deviation after preprocessing: 27.059995121352962\n",
      "2022-10-21 16:44:53,414 | INFO : Test dataset mean age after preprocessing: 1972.3015981599349\n",
      "2022-10-21 16:44:53,414 | INFO : Training dataset length after preprocessing: 45178\n",
      "2022-10-21 16:44:53,415 | INFO : Test dataset length after preprocessing: 100866\n",
      "`early_stopping_rounds` in `fit` method is deprecated for better compatibility with scikit-learn, use `early_stopping_rounds` in constructor or`set_params` instead.\n",
      "2022-10-21 16:44:55,470 | INFO : No abort signal received. Continuing... To abort please create /p/projects/eubucco/data/3-ml-inputs/local-c29b793d.abort.\n",
      "2022-10-21 16:44:55,472 | INFO : Dataset standard deviation: 28.04851594248268\n",
      "2022-10-21 16:44:55,474 | INFO : Dataset mean age: 1974.6345036762216\n",
      "2022-10-21 16:44:55,474 | INFO : Training dataset length: 125620\n",
      "2022-10-21 16:44:55,475 | INFO : Test dataset length: 22086\n",
      "2022-10-21 16:44:55,859 | INFO : Test dataset standard deviation after preprocessing: 15.11088725363819\n",
      "2022-10-21 16:44:55,860 | INFO : Test dataset mean age after preprocessing: 1986.4627818527574\n",
      "2022-10-21 16:44:55,861 | INFO : Training dataset length after preprocessing: 123958\n",
      "2022-10-21 16:44:55,861 | INFO : Test dataset length after preprocessing: 22086\n",
      "`early_stopping_rounds` in `fit` method is deprecated for better compatibility with scikit-learn, use `early_stopping_rounds` in constructor or`set_params` instead.\n",
      "2022-10-21 16:44:58,316 | INFO : No abort signal received. Continuing... To abort please create /p/projects/eubucco/data/3-ml-inputs/local-c29b793d.abort.\n",
      "2022-10-21 16:44:58,318 | INFO : Dataset standard deviation: 28.04851594248268\n",
      "2022-10-21 16:44:58,319 | INFO : Dataset mean age: 1974.6345036762216\n",
      "2022-10-21 16:44:58,320 | INFO : Training dataset length: 132211\n",
      "2022-10-21 16:44:58,321 | INFO : Test dataset length: 15495\n",
      "2022-10-21 16:44:58,699 | INFO : Test dataset standard deviation after preprocessing: 19.21771965117587\n",
      "2022-10-21 16:44:58,700 | INFO : Test dataset mean age after preprocessing: 1983.2755998426642\n",
      "2022-10-21 16:44:58,701 | INFO : Training dataset length after preprocessing: 130790\n",
      "2022-10-21 16:44:58,701 | INFO : Test dataset length after preprocessing: 15254\n",
      "`early_stopping_rounds` in `fit` method is deprecated for better compatibility with scikit-learn, use `early_stopping_rounds` in constructor or`set_params` instead.\n",
      "2022-10-21 16:45:03,760 | INFO : No abort signal received. Continuing... To abort please create /p/projects/eubucco/data/3-ml-inputs/local-c29b793d.abort.\n",
      "2022-10-21 16:45:03,763 | INFO : Dataset standard deviation: 28.04851594248268\n",
      "2022-10-21 16:45:03,765 | INFO : Dataset mean age: 1974.6345036762216\n",
      "2022-10-21 16:45:03,765 | INFO : Training dataset length: 142164\n",
      "2022-10-21 16:45:03,766 | INFO : Test dataset length: 5542\n",
      "2022-10-21 16:45:04,256 | INFO : Test dataset standard deviation after preprocessing: 25.221979598040583\n",
      "2022-10-21 16:45:04,257 | INFO : Test dataset mean age after preprocessing: 1974.2217102838185\n",
      "2022-10-21 16:45:04,257 | INFO : Training dataset length after preprocessing: 140618\n",
      "2022-10-21 16:45:04,258 | INFO : Test dataset length after preprocessing: 5426\n",
      "`early_stopping_rounds` in `fit` method is deprecated for better compatibility with scikit-learn, use `early_stopping_rounds` in constructor or`set_params` instead.\n",
      "2022-10-21 16:45:08,058 | INFO : No abort signal received. Continuing... To abort please create /p/projects/eubucco/data/3-ml-inputs/local-c29b793d.abort.\n",
      "2022-10-21 16:45:08,060 | INFO : Dataset standard deviation: 28.04851594248268\n",
      "2022-10-21 16:45:08,061 | INFO : Dataset mean age: 1974.6345036762216\n",
      "2022-10-21 16:45:08,061 | INFO : Training dataset length: 145257\n",
      "2022-10-21 16:45:08,062 | INFO : Test dataset length: 2449\n",
      "2022-10-21 16:45:08,512 | INFO : Test dataset standard deviation after preprocessing: 24.54401759850889\n",
      "2022-10-21 16:45:08,513 | INFO : Test dataset mean age after preprocessing: 1978.6621061359867\n",
      "2022-10-21 16:45:08,513 | INFO : Training dataset length after preprocessing: 143632\n",
      "2022-10-21 16:45:08,514 | INFO : Test dataset length after preprocessing: 2412\n",
      "`early_stopping_rounds` in `fit` method is deprecated for better compatibility with scikit-learn, use `early_stopping_rounds` in constructor or`set_params` instead.\n"
     ]
    }
   ],
   "source": [
    "comparison_config = {\n",
    "    'Spain': {'df': path_data_ESP},\n",
    "    'France': {'df': path_data_FRA},\n",
    "    'Netherlands': {'df': path_data_NLD},\n",
    "}\n",
    "\n",
    "grid_comparison_config = {\n",
    "    'random-cv': {'cross_validation_split': pp.cross_validation},\n",
    "    'neighborhood-cv': {'cross_validation_split': pp.neighborhood_cross_validation},\n",
    "    'city-cv': {'cross_validation_split': pp.city_cross_validation},\n",
    "}\n",
    "\n",
    "comparison = AgePredictorComparison(\n",
    "    exp_name='demo',\n",
    "    model=XGBRegressor(**xgb_model_params),\n",
    "    df=None,\n",
    "    frac=0.5,\n",
    "    cross_validation_split=None,\n",
    "    preprocessing_stages=[pp.remove_outliers],\n",
    "    hyperparameters=xgb_hyperparams,\n",
    "    compare_feature_importance=False,\n",
    "    compare_classification_error=False,\n",
    "    include_baseline=False,\n",
    "    save_results=False,\n",
    "    garbage_collect_after_training=True,\n",
    "    comparison_config=comparison_config,\n",
    "    grid_comparison_config=grid_comparison_config,\n",
    ")\n",
    "\n",
    "results = comparison.evaluate()"
   ]
  },
  {
   "cell_type": "code",
   "execution_count": 35,
   "metadata": {},
   "outputs": [
    {
     "data": {
      "text/html": [
       "<div>\n",
       "<style scoped>\n",
       "    .dataframe tbody tr th:only-of-type {\n",
       "        vertical-align: middle;\n",
       "    }\n",
       "\n",
       "    .dataframe tbody tr th {\n",
       "        vertical-align: top;\n",
       "    }\n",
       "\n",
       "    .dataframe thead th {\n",
       "        text-align: right;\n",
       "    }\n",
       "</style>\n",
       "<table border=\"1\" class=\"dataframe\">\n",
       "  <thead>\n",
       "    <tr style=\"text-align: right;\">\n",
       "      <th></th>\n",
       "      <th>name</th>\n",
       "      <th>R2</th>\n",
       "      <th>R2_std</th>\n",
       "      <th>MAE</th>\n",
       "      <th>MAE_std</th>\n",
       "      <th>RMSE</th>\n",
       "      <th>RMSE_std</th>\n",
       "      <th>within_5_years</th>\n",
       "      <th>within_10_years</th>\n",
       "      <th>within_20_years</th>\n",
       "      <th>R2_seed_0</th>\n",
       "    </tr>\n",
       "  </thead>\n",
       "  <tbody>\n",
       "    <tr>\n",
       "      <th>8</th>\n",
       "      <td>Netherlands_city-cv</td>\n",
       "      <td>0.135401</td>\n",
       "      <td>0.0</td>\n",
       "      <td>18.030643</td>\n",
       "      <td>0.0</td>\n",
       "      <td>23.598668</td>\n",
       "      <td>0.0</td>\n",
       "      <td>0.221385</td>\n",
       "      <td>0.392977</td>\n",
       "      <td>0.638903</td>\n",
       "      <td>0.135401</td>\n",
       "    </tr>\n",
       "    <tr>\n",
       "      <th>7</th>\n",
       "      <td>France_city-cv</td>\n",
       "      <td>0.187767</td>\n",
       "      <td>0.0</td>\n",
       "      <td>18.645831</td>\n",
       "      <td>0.0</td>\n",
       "      <td>23.772030</td>\n",
       "      <td>0.0</td>\n",
       "      <td>0.176875</td>\n",
       "      <td>0.345911</td>\n",
       "      <td>0.615315</td>\n",
       "      <td>0.187767</td>\n",
       "    </tr>\n",
       "    <tr>\n",
       "      <th>6</th>\n",
       "      <td>Spain_city-cv</td>\n",
       "      <td>0.197072</td>\n",
       "      <td>0.0</td>\n",
       "      <td>23.840955</td>\n",
       "      <td>0.0</td>\n",
       "      <td>29.563272</td>\n",
       "      <td>0.0</td>\n",
       "      <td>0.126411</td>\n",
       "      <td>0.247178</td>\n",
       "      <td>0.494357</td>\n",
       "      <td>0.197072</td>\n",
       "    </tr>\n",
       "    <tr>\n",
       "      <th>3</th>\n",
       "      <td>Spain_neighborhood-cv</td>\n",
       "      <td>0.198503</td>\n",
       "      <td>0.0</td>\n",
       "      <td>23.779078</td>\n",
       "      <td>0.0</td>\n",
       "      <td>29.536916</td>\n",
       "      <td>0.0</td>\n",
       "      <td>0.129797</td>\n",
       "      <td>0.247178</td>\n",
       "      <td>0.506772</td>\n",
       "      <td>0.198503</td>\n",
       "    </tr>\n",
       "    <tr>\n",
       "      <th>5</th>\n",
       "      <td>Netherlands_neighborhood-cv</td>\n",
       "      <td>0.304538</td>\n",
       "      <td>0.0</td>\n",
       "      <td>15.884060</td>\n",
       "      <td>0.0</td>\n",
       "      <td>21.164937</td>\n",
       "      <td>0.0</td>\n",
       "      <td>0.241489</td>\n",
       "      <td>0.444702</td>\n",
       "      <td>0.699700</td>\n",
       "      <td>0.304538</td>\n",
       "    </tr>\n",
       "    <tr>\n",
       "      <th>4</th>\n",
       "      <td>France_neighborhood-cv</td>\n",
       "      <td>0.330228</td>\n",
       "      <td>0.0</td>\n",
       "      <td>16.306574</td>\n",
       "      <td>0.0</td>\n",
       "      <td>21.586864</td>\n",
       "      <td>0.0</td>\n",
       "      <td>0.211348</td>\n",
       "      <td>0.408337</td>\n",
       "      <td>0.705209</td>\n",
       "      <td>0.330228</td>\n",
       "    </tr>\n",
       "    <tr>\n",
       "      <th>0</th>\n",
       "      <td>Spain_random-cv</td>\n",
       "      <td>0.363164</td>\n",
       "      <td>0.0</td>\n",
       "      <td>20.108252</td>\n",
       "      <td>0.0</td>\n",
       "      <td>26.328608</td>\n",
       "      <td>0.0</td>\n",
       "      <td>0.180587</td>\n",
       "      <td>0.355530</td>\n",
       "      <td>0.592551</td>\n",
       "      <td>0.363164</td>\n",
       "    </tr>\n",
       "    <tr>\n",
       "      <th>1</th>\n",
       "      <td>France_random-cv</td>\n",
       "      <td>0.511105</td>\n",
       "      <td>0.0</td>\n",
       "      <td>12.372172</td>\n",
       "      <td>0.0</td>\n",
       "      <td>18.443089</td>\n",
       "      <td>0.0</td>\n",
       "      <td>0.369564</td>\n",
       "      <td>0.593466</td>\n",
       "      <td>0.806340</td>\n",
       "      <td>0.511105</td>\n",
       "    </tr>\n",
       "    <tr>\n",
       "      <th>2</th>\n",
       "      <td>Netherlands_random-cv</td>\n",
       "      <td>0.575725</td>\n",
       "      <td>0.0</td>\n",
       "      <td>10.203823</td>\n",
       "      <td>0.0</td>\n",
       "      <td>16.531180</td>\n",
       "      <td>0.0</td>\n",
       "      <td>0.525335</td>\n",
       "      <td>0.695626</td>\n",
       "      <td>0.827052</td>\n",
       "      <td>0.575725</td>\n",
       "    </tr>\n",
       "  </tbody>\n",
       "</table>\n",
       "</div>"
      ],
      "text/plain": [
       "                          name        R2  R2_std        MAE  MAE_std  \\\n",
       "8          Netherlands_city-cv  0.135401     0.0  18.030643      0.0   \n",
       "7               France_city-cv  0.187767     0.0  18.645831      0.0   \n",
       "6                Spain_city-cv  0.197072     0.0  23.840955      0.0   \n",
       "3        Spain_neighborhood-cv  0.198503     0.0  23.779078      0.0   \n",
       "5  Netherlands_neighborhood-cv  0.304538     0.0  15.884060      0.0   \n",
       "4       France_neighborhood-cv  0.330228     0.0  16.306574      0.0   \n",
       "0              Spain_random-cv  0.363164     0.0  20.108252      0.0   \n",
       "1             France_random-cv  0.511105     0.0  12.372172      0.0   \n",
       "2        Netherlands_random-cv  0.575725     0.0  10.203823      0.0   \n",
       "\n",
       "        RMSE  RMSE_std  within_5_years  within_10_years  within_20_years  \\\n",
       "8  23.598668       0.0        0.221385         0.392977         0.638903   \n",
       "7  23.772030       0.0        0.176875         0.345911         0.615315   \n",
       "6  29.563272       0.0        0.126411         0.247178         0.494357   \n",
       "3  29.536916       0.0        0.129797         0.247178         0.506772   \n",
       "5  21.164937       0.0        0.241489         0.444702         0.699700   \n",
       "4  21.586864       0.0        0.211348         0.408337         0.705209   \n",
       "0  26.328608       0.0        0.180587         0.355530         0.592551   \n",
       "1  18.443089       0.0        0.369564         0.593466         0.806340   \n",
       "2  16.531180       0.0        0.525335         0.695626         0.827052   \n",
       "\n",
       "   R2_seed_0  \n",
       "8   0.135401  \n",
       "7   0.187767  \n",
       "6   0.197072  \n",
       "3   0.198503  \n",
       "5   0.304538  \n",
       "4   0.330228  \n",
       "0   0.363164  \n",
       "1   0.511105  \n",
       "2   0.575725  "
      ]
     },
     "execution_count": 35,
     "metadata": {},
     "output_type": "execute_result"
    }
   ],
   "source": [
    "results"
   ]
  }
 ],
 "metadata": {
  "kernelspec": {
   "display_name": "base",
   "language": "python",
   "name": "python3"
  },
  "language_info": {
   "codemirror_mode": {
    "name": "ipython",
    "version": 3
   },
   "file_extension": ".py",
   "mimetype": "text/x-python",
   "name": "python",
   "nbconvert_exporter": "python",
   "pygments_lexer": "ipython3",
   "version": "3.11.4"
  },
  "orig_nbformat": 4
 },
 "nbformat": 4,
 "nbformat_minor": 2
}
